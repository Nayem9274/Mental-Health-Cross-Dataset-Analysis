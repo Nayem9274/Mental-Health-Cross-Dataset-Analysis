{
  "cells": [
    {
      "cell_type": "code",
      "execution_count": 1,
      "metadata": {
        "collapsed": true,
        "id": "486ac0h5CSnm"
      },
      "outputs": [],
      "source": [
        "# !pip install fastai"
      ]
    },
    {
      "cell_type": "code",
      "execution_count": 2,
      "metadata": {},
      "outputs": [],
      "source": [
        "# pip install statsmodels"
      ]
    },
    {
      "cell_type": "code",
      "execution_count": 3,
      "metadata": {
        "id": "d61GosRBDJff"
      },
      "outputs": [],
      "source": [
        "import pandas as pd\n",
        "import numpy as np\n",
        "import matplotlib.pyplot as plt\n",
        "from matplotlib.gridspec import GridSpec\n",
        "from IPython.display import display\n",
        "import seaborn as sns\n",
        "import statsmodels.api as sm\n",
        "from statsmodels.formula.api import ols\n",
        "from scipy.stats import linregress"
      ]
    },
    {
      "cell_type": "code",
      "execution_count": 4,
      "metadata": {
        "collapsed": true,
        "id": "-SR8aXEODOCe"
      },
      "outputs": [],
      "source": [
        "#from google.colab import drive\n",
        "#drive.mount('/content/drive')"
      ]
    },
    {
      "cell_type": "code",
      "execution_count": 5,
      "metadata": {
        "id": "VYX34y3lDXj3"
      },
      "outputs": [],
      "source": [
        "#input=pd.read_csv('/content/drive/MyDrive/DataSets/Medical Student Mental Health.csv')\n",
        "input = pd.read_csv(r'C:\\Users\\User\\Downloads\\Medical Student Mental Health.csv')\n"
      ]
    },
    {
      "cell_type": "code",
      "execution_count": null,
      "metadata": {
        "colab": {
          "base_uri": "https://localhost:8080/",
          "height": 226
        },
        "id": "w8-P7zdwDg4u",
        "outputId": "c65a95db-9cb9-44b1-d723-f1ba298778c3"
      },
      "outputs": [],
      "source": [
        "input.head()"
      ]
    },
    {
      "cell_type": "code",
      "execution_count": null,
      "metadata": {
        "colab": {
          "base_uri": "https://localhost:8080/"
        },
        "id": "VjVc3vzBEGoV",
        "outputId": "ca8540c2-5104-4808-82f8-7e9b49e14e3b"
      },
      "outputs": [],
      "source": [
        "input.info()"
      ]
    },
    {
      "cell_type": "code",
      "execution_count": 8,
      "metadata": {
        "id": "OqJen6kDd_TW"
      },
      "outputs": [],
      "source": [
        "# Get the last 5 column names\n",
        "last_10_columns = input.columns[-10:]\n",
        "\n",
        "# New names for the last 5 columns\n",
        "new_names = [\"total_empathy\",\"cognitive_empathy\",\"affective_empathy\",\"modify_presentation\",\"emotion_recognition\",\"depression\", \"anxiety\", \"exhaustion\", \"cynicism\", \"efficacy\"]\n",
        "\n",
        "# Create a dictionary for renaming\n",
        "rename_dict = {old: new for old, new in zip(last_10_columns, new_names)}\n",
        "\n",
        "# Rename the last 5 columns in-place\n",
        "input.rename(columns=rename_dict, inplace=True)"
      ]
    },
    {
      "cell_type": "code",
      "execution_count": null,
      "metadata": {
        "colab": {
          "base_uri": "https://localhost:8080/"
        },
        "id": "g63AP5IjeKFk",
        "outputId": "33ac6190-3fa3-453c-aa9f-8edbc01a2db2"
      },
      "outputs": [],
      "source": [
        "input.info()"
      ]
    },
    {
      "cell_type": "code",
      "execution_count": null,
      "metadata": {
        "colab": {
          "base_uri": "https://localhost:8080/",
          "height": 320
        },
        "id": "-zXJ52J3Fja-",
        "outputId": "bc7f834d-9111-42c5-c723-c9df8569227a"
      },
      "outputs": [],
      "source": [
        "input.describe()"
      ]
    },
    {
      "cell_type": "code",
      "execution_count": null,
      "metadata": {
        "colab": {
          "base_uri": "https://localhost:8080/"
        },
        "id": "XEj_vanyB6_V",
        "outputId": "8d7f46cf-c614-4022-bd32-dce938001019"
      },
      "outputs": [],
      "source": [
        "col=['age','sex','year','part','job','psyt','health','glang']\n",
        "\n",
        "for var in col:\n",
        "  value_counts = input[var].value_counts()\n",
        "  # Calculate the percentage of each value\n",
        "  percentage_counts = value_counts / len(input) * 100\n",
        "  print(\"Percentage of each unique value in \" +var+ \" column:\")\n",
        "  print(percentage_counts)"
      ]
    },
    {
      "cell_type": "code",
      "execution_count": 12,
      "metadata": {
        "id": "lJR2zKhBFqzd"
      },
      "outputs": [],
      "source": [
        "#plt.rcParams['text.usetex'] = False"
      ]
    },
    {
      "cell_type": "code",
      "execution_count": 13,
      "metadata": {
        "collapsed": true,
        "id": "lOAbKjS4Fv74"
      },
      "outputs": [],
      "source": [
        "#!apt-get install texlive-full"
      ]
    },
    {
      "cell_type": "code",
      "execution_count": null,
      "metadata": {
        "colab": {
          "base_uri": "https://localhost:8080/",
          "height": 756
        },
        "id": "JK5KBoiSa0GD",
        "outputId": "ea8a44fc-9186-4ae8-f733-7f1f38094137"
      },
      "outputs": [],
      "source": [
        "# Function to create pie charts\n",
        "def create_pie_chart(ax, column_name, data):\n",
        "    counts = data[column_name].value_counts()\n",
        "    labels = counts.index\n",
        "    ax.pie(counts, labels=labels, autopct='%1.1f%%', startangle=140, colors=plt.cm.Paired.colors)\n",
        "    ax.set_title(f'Distribution of {column_name}')\n",
        "    ax.axis('equal')\n",
        "\n",
        "#\n",
        "columns=['sex','part','job','health','psyt']\n",
        "# Number of columns for the subplot grid\n",
        "num_columns = 3\n",
        "num_plots = len(columns)\n",
        "\n",
        "# Calculate number of rows needed\n",
        "num_rows = (num_plots + num_columns - 1) // num_columns\n",
        "\n",
        "fig, axes = plt.subplots(num_rows, num_columns, figsize=(15, num_rows * 5))\n",
        "\n",
        "# Flatten axes array if there's more than one row\n",
        "if num_rows > 1:\n",
        "    axes = axes.flatten()\n",
        "\n",
        "# Create pie charts for each categorical variable\n",
        "for i, column in enumerate(columns):\n",
        "    create_pie_chart(axes[i], column, input)\n",
        "\n",
        "# Remove any unused subplots\n",
        "for i in range(num_plots, len(axes)):\n",
        "    fig.delaxes(axes[i])\n",
        "\n",
        "plt.tight_layout()\n",
        "plt.show()"
      ]
    },
    {
      "cell_type": "markdown",
      "metadata": {
        "id": "XBTzH67iBxqM"
      },
      "source": [
        "\n",
        "# Table 1. Descriptive statistics of the final sample (N = 886)\n",
        "\n",
        "| Sociodemographics       | M (SD)          | Percent |\n",
        "|-------------------------|-----------------|---------|\n",
        "| **Gender**              |                 |         |\n",
        "| Female                  |                 | 68.40   |\n",
        "| Male                    |                 | 31.04   |\n",
        "| Non-binary              |                 | 0.56    |\n",
        "| **Age**                 | 22.38 (3.30)    |         |\n",
        "| **Curriculum year**     |                 |         |\n",
        "| B1                      |                 | 27.65   |\n",
        "| B2                      |                 | 15.24   |\n",
        "| B3                      |                 | 16.14   |\n",
        "| M1                      |                 | 13.88   |\n",
        "| M2                      |                 | 14.33   |\n",
        "| M3                      |                 | 12.75   |\n",
        "| **Mother tongue**       |                 |         |\n",
        "| French                  |                 | 80.93   |\n",
        "| Italian                 |                 | 5.08    |\n",
        "| German                  |                 | 3.50    |\n",
        "| Portuguese              |                 | 3.05    |\n",
        "| English                 |                 | 2.48    |\n",
        "| Spanish                 |                 | 2.03    |\n",
        "| Othera                  |                 | 2.92    |\n",
        "| **Having a partner**    |                 | 56.32   |\n",
        "| **Having a paid job**   |                 | 34.88   |\n",
        "| **Hours of study/weekc**| 25.29 (15.93)   |         |\n",
        "| **Satisfaction with healthb** | 3.78 (1.06) |         |\n",
        "| **Consulted a psy last year** |          | 22.46   |"
      ]
    },
    {
      "cell_type": "code",
      "execution_count": null,
      "metadata": {
        "colab": {
          "base_uri": "https://localhost:8080/"
        },
        "id": "jKeaXZYaHBmR",
        "outputId": "d43eb121-836a-4b23-8fb2-daff684aa3fc"
      },
      "outputs": [],
      "source": [
        "# Check the unique values in each column\n",
        "for column in input.columns:\n",
        "    unique_values = sorted(input[column].unique())\n",
        "    print(f\"Column '{column}' has {len(unique_values)} unique values: {unique_values}\")"
      ]
    },
    {
      "cell_type": "code",
      "execution_count": null,
      "metadata": {
        "colab": {
          "base_uri": "https://localhost:8080/",
          "height": 863
        },
        "id": "gOOuPdHmIF-0",
        "outputId": "4d30b5e9-1faf-47f9-b1e2-5fb8543584af"
      },
      "outputs": [],
      "source": [
        "input.hist(bins=50, figsize=(20,15))\n",
        "plt.show()"
      ]
    },
    {
      "cell_type": "code",
      "execution_count": 17,
      "metadata": {
        "id": "yaSmLiMJJkC7"
      },
      "outputs": [],
      "source": [
        "# for stat analysis , using whole set ( as we won't predict anything)\n",
        "from sklearn.model_selection import train_test_split\n",
        "train_set, test_set = input,input"
      ]
    },
    {
      "cell_type": "code",
      "execution_count": 18,
      "metadata": {
        "id": "rg7AqrySj2TV"
      },
      "outputs": [],
      "source": [
        "train_set_copy= train_set.copy()"
      ]
    },
    {
      "cell_type": "code",
      "execution_count": null,
      "metadata": {
        "colab": {
          "base_uri": "https://localhost:8080/",
          "height": 898
        },
        "id": "IilJt59tj-T7",
        "outputId": "51c33fd3-84f5-4432-9ac6-310df09a776e"
      },
      "outputs": [],
      "source": [
        "train_set_copy.plot(kind=\"scatter\",x=\"year\",y=\"depression\", alpha=0.1)\n",
        "train_set_copy.plot(kind=\"scatter\",x=\"sex\",y=\"depression\")"
      ]
    },
    {
      "cell_type": "markdown",
      "metadata": {
        "id": "ffdDcSIutLDC"
      },
      "source": [
        "# **Correlation Study**"
      ]
    },
    {
      "cell_type": "code",
      "execution_count": null,
      "metadata": {
        "colab": {
          "base_uri": "https://localhost:8080/",
          "height": 696
        },
        "id": "H4fG3me9koHk",
        "outputId": "03375488-1d90-4825-911e-4407bdc3a727"
      },
      "outputs": [],
      "source": [
        "corr_matrix = train_set_copy.corr()\n",
        "display(corr_matrix)"
      ]
    },
    {
      "cell_type": "code",
      "execution_count": null,
      "metadata": {
        "colab": {
          "base_uri": "https://localhost:8080/",
          "height": 383
        },
        "id": "xUTn-GOwnXO0",
        "outputId": "562d6ee9-c179-4a7f-fabb-e38fd856f58c"
      },
      "outputs": [],
      "source": [
        "last_10_columns = train_set_copy.iloc[:, -10:]\n",
        "corr_matrix_last_10 = last_10_columns.corr()\n",
        "display(corr_matrix_last_10)"
      ]
    },
    {
      "cell_type": "code",
      "execution_count": null,
      "metadata": {
        "colab": {
          "base_uri": "https://localhost:8080/",
          "height": 596
        },
        "id": "3MOLyQh1k54N",
        "outputId": "df844ca2-384e-4334-b529-97c1192221fc"
      },
      "outputs": [],
      "source": [
        "plt.figure(figsize=(8, 5))  # Set the size of the plot\n",
        "sns.heatmap(corr_matrix_last_10, annot=True, cmap='coolwarm', center=0)\n",
        "plt.title('Correlation Matrix Heatmap')\n",
        "plt.show()"
      ]
    },
    {
      "cell_type": "markdown",
      "metadata": {
        "id": "z9xmcGqKozfq"
      },
      "source": [
        "# **Model Training**"
      ]
    },
    {
      "cell_type": "code",
      "execution_count": null,
      "metadata": {
        "colab": {
          "base_uri": "https://localhost:8080/"
        },
        "collapsed": true,
        "id": "sN-5FiUdq590",
        "outputId": "2f5ccf34-5804-4b90-a499-90ee42eceff0"
      },
      "outputs": [],
      "source": [
        "!pip install mord"
      ]
    },
    {
      "cell_type": "code",
      "execution_count": null,
      "metadata": {
        "colab": {
          "base_uri": "https://localhost:8080/"
        },
        "id": "5mCGOh0Oo6AD",
        "outputId": "e4376384-1329-4979-d3e7-a56898c26f68"
      },
      "outputs": [],
      "source": [
        "import pandas as pd\n",
        "from sklearn.model_selection import train_test_split\n",
        "from sklearn.preprocessing import StandardScaler\n",
        "from sklearn.ensemble import RandomForestRegressor\n",
        "from sklearn.metrics import mean_squared_error\n",
        "from sklearn.metrics import accuracy_score, confusion_matrix\n",
        "from mord import LogisticIT\n",
        "import numpy as np\n",
        "\n",
        "# Load the data\n",
        "data = input\n",
        "\n",
        "# Select features and target\n",
        "features = ['age', 'year', 'sex', 'total_empathy', 'cognitive_empathy', 'affective_empathy',\n",
        "            'emotion_recognition', 'depression', 'anxiety', 'exhaustion', 'cynicism', 'efficacy',\n",
        "            'stud_h', 'job', 'part']\n",
        "target = 'health'\n",
        "\n",
        "X = data[features]\n",
        "y = data[target]\n",
        "\n",
        "# Preprocess the data\n",
        "# Encode categorical variables\n",
        "X = pd.get_dummies(X, columns=['sex', 'job', 'part'])\n",
        "\n",
        "# Split the data\n",
        "X_train, X_test, y_train, y_test = train_test_split(X, y, test_size=0.2, random_state=42)\n",
        "\n",
        "# Scale the features\n",
        "scaler = StandardScaler()\n",
        "X_train_scaled = scaler.fit_transform(X_train)\n",
        "X_test_scaled = scaler.transform(X_test)\n",
        "\n",
        "# Train the model\n",
        "model = LogisticIT()\n",
        "model.fit(X_train_scaled, y_train)\n",
        "\n",
        "# Make predictions\n",
        "y_pred = model.predict(X_test_scaled)\n",
        "\n",
        "# Evaluate the model\n",
        "accuracy = accuracy_score(y_test, y_pred)\n",
        "print(f\"Accuracy: {accuracy}\")\n",
        "\n",
        "# Confusion matrix\n",
        "conf_matrix = confusion_matrix(y_test, y_pred)\n",
        "print(\"Confusion Matrix:\")\n",
        "print(conf_matrix)\n",
        "\n"
      ]
    },
    {
      "cell_type": "code",
      "execution_count": null,
      "metadata": {
        "colab": {
          "base_uri": "https://localhost:8080/"
        },
        "id": "XAhC2mjlresJ",
        "outputId": "d3b69d35-1dea-48dc-d4e6-59c241f89637"
      },
      "outputs": [],
      "source": [
        "from sklearn.model_selection import train_test_split\n",
        "from sklearn.preprocessing import StandardScaler\n",
        "from sklearn.linear_model import LogisticRegression\n",
        "from sklearn.metrics import classification_report, confusion_matrix\n",
        "\n",
        "data=input\n",
        "\n",
        "# Assuming `data` is your DataFrame and `health` is your target variable\n",
        "X = data.drop('health', axis=1)  # Features\n",
        "y = data['health']  # Target\n",
        "\n",
        "# Split data into training and testing sets\n",
        "X_train, X_test, y_train, y_test = train_test_split(X, y, test_size=0.3, random_state=42)\n",
        "\n",
        "# Standardize the features\n",
        "scaler = StandardScaler()\n",
        "X_train_scaled = scaler.fit_transform(X_train)\n",
        "X_test_scaled = scaler.transform(X_test)\n",
        "\n",
        "# Initialize and train logistic regression model\n",
        "log_reg = LogisticRegression()\n",
        "log_reg.fit(X_train_scaled, y_train)\n",
        "\n",
        "# Predict on the test set\n",
        "y_pred_log_reg = log_reg.predict(X_test_scaled)\n",
        "\n",
        "# Evaluate the model\n",
        "print(confusion_matrix(y_test, y_pred_log_reg))\n",
        "print(classification_report(y_test, y_pred_log_reg))\n"
      ]
    },
    {
      "cell_type": "code",
      "execution_count": null,
      "metadata": {
        "colab": {
          "base_uri": "https://localhost:8080/"
        },
        "id": "xQlmH--Vrw7M",
        "outputId": "ed494f35-cc54-4d14-920f-d716c2837a53"
      },
      "outputs": [],
      "source": [
        "from sklearn.ensemble import RandomForestClassifier\n",
        "from sklearn.metrics import classification_report, confusion_matrix\n",
        "\n",
        "# Initialize and train random forest model\n",
        "rf = RandomForestClassifier(n_estimators=100, random_state=42)\n",
        "rf.fit(X_train, y_train)\n",
        "\n",
        "# Predict on the test set\n",
        "y_pred_rf = rf.predict(X_test)\n",
        "\n",
        "# Evaluate the model\n",
        "print(confusion_matrix(y_test, y_pred_rf))\n",
        "print(classification_report(y_test, y_pred_rf))\n"
      ]
    },
    {
      "cell_type": "markdown",
      "metadata": {
        "id": "KwU5IQPYtYtB"
      },
      "source": [
        "# **Relation of mental distress and academic efficacy**"
      ]
    },
    {
      "cell_type": "code",
      "execution_count": null,
      "metadata": {
        "colab": {
          "base_uri": "https://localhost:8080/",
          "height": 290
        },
        "id": "OCnO4qphtsEa",
        "outputId": "28b8932a-8d11-469b-d259-41898477c5a6"
      },
      "outputs": [],
      "source": [
        "target_columns = ['depression', 'anxiety', 'exhaustion', 'cynicism']\n",
        "\n",
        "# Create a figure and subplots\n",
        "fig, axs = plt.subplots(1, len(target_columns), figsize=(20, 5))\n",
        "\n",
        "# Loop through the target columns and create scatter plots\n",
        "for ax, column in zip(axs, target_columns):\n",
        "    train_set_copy.plot(kind=\"scatter\", x=column, y=\"efficacy\", ax=ax)\n",
        "    ax.set_title(f'Efficacy vs {column.capitalize()} ')\n",
        "\n",
        "# Adjust layout\n",
        "plt.tight_layout()\n",
        "plt.show()"
      ]
    },
    {
      "cell_type": "code",
      "execution_count": null,
      "metadata": {
        "colab": {
          "base_uri": "https://localhost:8080/",
          "height": 1000
        },
        "id": "t-qpE5gH6CD6",
        "outputId": "39cc95d6-6f08-4ff6-9df4-22b5d7ccfaf6"
      },
      "outputs": [],
      "source": [
        "import seaborn as sns\n",
        "import matplotlib.pyplot as plt\n",
        "\n",
        "# Set the font for the plots\n",
        "plt.style.use('default')  # Reset style to default\n",
        "plt.rc('font', family='serif', size=15)\n",
        "\n",
        "target_columns = ['depression', 'anxiety', 'exhaustion', 'cynicism']\n",
        "\n",
        "# Map numeric values to gender labels\n",
        "gender_labels = {1: 'Male', 2: 'Female', 3: 'Non-binary'}\n",
        "\n",
        "# Loop through each target column and create a separate scatter plot image\n",
        "for column in target_columns:\n",
        "    # Create a new figure for each plot\n",
        "    plt.figure(figsize=(8, 6))  # Adjust the figsize as needed\n",
        "\n",
        "    # Create scatter plot\n",
        "    sns.scatterplot(\n",
        "        x=column,\n",
        "        y=\"efficacy\",\n",
        "        hue=\"sex\",\n",
        "        palette={'Male': 'blue', 'Female': 'red', 'Non-binary': 'green'},\n",
        "        data=train_set_copy.replace({'sex': gender_labels})  # Replace numeric values with labels\n",
        "    )\n",
        "\n",
        "    # Set the title for the plot\n",
        "    #plt.title(f'Efficacy vs {column.capitalize()}')\n",
        "\n",
        "    # Set the x-axis and y-axis labels with capitalized first letters\n",
        "    plt.xlabel(column.capitalize(), fontfamily='serif', fontsize=25)\n",
        "    plt.ylabel('Efficacy', fontfamily='serif', fontsize=25)\n",
        "\n",
        "     # Add a grid with light dotted lines\n",
        "    plt.grid(True, linestyle=':', linewidth=1, color='grey')\n",
        "\n",
        "    # Add the legend\n",
        "    plt.legend(fontsize=20, loc='upper right')\n",
        "\n",
        "    # Save the plot as a separate image file\n",
        "    plt.savefig(f'content/Efficacy_vs_{column.capitalize()}.pdf', dpi=600, bbox_inches='tight')\n",
        "\n",
        "    # Show the plot\n",
        "    plt.show()\n"
      ]
    },
    {
      "cell_type": "code",
      "execution_count": null,
      "metadata": {
        "colab": {
          "base_uri": "https://localhost:8080/",
          "height": 1000
        },
        "id": "MMaS_3S_69l4",
        "outputId": "de7452b4-4ca1-4316-d482-7c0860b46ccf"
      },
      "outputs": [],
      "source": [
        "import matplotlib.pyplot as plt\n",
        "import seaborn as sns\n",
        "\n",
        "# Set the font for the plots\n",
        "plt.style.use('default')\n",
        "plt.rc('font', family='serif', size=14)\n",
        "\n",
        "target_columns = ['depression', 'anxiety', 'exhaustion', 'cynicism']\n",
        "\n",
        "# Map numeric values to gender labels\n",
        "gender_labels = {1: 'Male', 2: 'Female', 3: 'Non-binary'}\n",
        "\n",
        "# Loop through each target column and create a separate scatter plot image\n",
        "for column in target_columns:\n",
        "    plt.figure(figsize=(8, 6))  # Adjust the figsize as needed\n",
        "\n",
        "    # Plot Male data with non-filled circles\n",
        "    sns.scatterplot(\n",
        "        x=column,\n",
        "        y=\"efficacy\",\n",
        "        data=train_set_copy.replace({'sex': gender_labels})[train_set_copy['sex'] == 1],\n",
        "        marker='o',\n",
        "        facecolors='none',  # Non-filled\n",
        "        edgecolor='blue',\n",
        "        label='Male'\n",
        "    )\n",
        "\n",
        "    # Plot Female data with filled circles\n",
        "    sns.scatterplot(\n",
        "        x=column,\n",
        "        y=\"efficacy\",\n",
        "        data=train_set_copy.replace({'sex': gender_labels})[train_set_copy['sex'] == 2],\n",
        "        marker='o',\n",
        "        color='red',\n",
        "        label='Female'\n",
        "    )\n",
        "\n",
        "    # Plot Non-binary data with filled triangles\n",
        "    sns.scatterplot(\n",
        "        x=column,\n",
        "        y=\"efficacy\",\n",
        "        data=train_set_copy.replace({'sex': gender_labels})[train_set_copy['sex'] == 3],\n",
        "        marker='v',\n",
        "        color='green',\n",
        "        label='Non-binary'\n",
        "    )\n",
        "\n",
        "    # Set the title for the plot\n",
        "    plt.title(f'Efficacy vs {column.capitalize()}')\n",
        "\n",
        "    # Set the x-axis and y-axis labels with capitalized first letters\n",
        "    plt.xlabel(column.capitalize(), fontfamily='serif', fontsize=14)\n",
        "    plt.ylabel('Efficacy', fontfamily='serif', fontsize=14)\n",
        "\n",
        "    # Add a grid with light dotted lines\n",
        "    plt.grid(True, linestyle=':', linewidth=1, color='grey')\n",
        "\n",
        "    # Add the legend\n",
        "    plt.legend(title='Gender')\n",
        "\n",
        "    # Save the plot as a separate image file\n",
        "   # plt.savefig(f'/content/Efficacy_vs_{column.capitalize()}.pdf', dpi=600, bbox_inches='tight')\n",
        "\n",
        "    # Show the plot\n",
        "    plt.show()\n"
      ]
    },
    {
      "cell_type": "code",
      "execution_count": null,
      "metadata": {
        "colab": {
          "base_uri": "https://localhost:8080/",
          "height": 942
        },
        "id": "UaInyUKpw5X0",
        "outputId": "1a3dabdf-0be0-47ae-e06b-98a38f8b3dfa"
      },
      "outputs": [],
      "source": [
        "sns.set(style=\"whitegrid\")\n",
        "\n",
        "# Create a 2x2 grid of plots\n",
        "fig = plt.figure(figsize=(12, 10))\n",
        "gs = GridSpec(2, 2, figure=fig)\n",
        "\n",
        "# Depression vs Efficacy\n",
        "ax1 = fig.add_subplot(gs[0, 0])\n",
        "sns.scatterplot(data=train_set_copy, x='depression', y='efficacy', hue='sex', palette={1: \"steelblue\", 2: \"violet\",3:\"orange\"}, ax=ax1)\n",
        "#sns.regplot(data=train_set_copy, x='depression', y='efficacy', scatter=False, ax=ax1, color=\"steelblue\")\n",
        "sns.regplot(data=train_set_copy[train_set_copy['sex'] == 1], x='depression', y='efficacy', scatter=False, ax=ax1, color=\"steelblue\")\n",
        "sns.regplot(data=train_set_copy[train_set_copy['sex'] == 2], x='depression', y='efficacy', scatter=False, ax=ax1, color=\"violet\")\n",
        "ax1.set_title('Efficacy vs Depression')\n",
        "ax1.legend()\n",
        "\n",
        "# Anxiety vs Efficacy\n",
        "ax2 = fig.add_subplot(gs[0, 1])\n",
        "sns.scatterplot(data=train_set_copy, x='anxiety', y='efficacy', hue='sex', palette={1: \"steelblue\", 2: \"violet\",3:\"orange\"}, ax=ax2)\n",
        "#sns.regplot(data=train_set_copy, x='anxiety', y='efficacy', scatter=False, ax=ax2, color=\"steelblue\")\n",
        "sns.regplot(data=train_set_copy[train_set_copy['sex'] == 1], x='anxiety', y='efficacy', scatter=False, ax=ax2, color=\"steelblue\")\n",
        "sns.regplot(data=train_set_copy[train_set_copy['sex'] == 2], x='anxiety', y='efficacy', scatter=False, ax=ax2, color=\"violet\")\n",
        "ax2.set_title('Efficacy vs Anxiety')\n",
        "ax2.legend()\n",
        "\n",
        "# Cynicism vs Efficacy\n",
        "ax3 = fig.add_subplot(gs[1, 0])\n",
        "sns.scatterplot(data=train_set_copy, x='cynicism', y='efficacy', hue='sex', palette={1: \"steelblue\", 2: \"violet\",3:\"orange\"}, ax=ax3)\n",
        "#sns.regplot(data=train_set_copy, x='cynicism', y='efficacy', scatter=False, ax=ax3, color=\"steelblue\")\n",
        "sns.regplot(data=train_set_copy[train_set_copy['sex'] == 1], x='cynicism', y='efficacy', scatter=False, ax=ax3, color=\"steelblue\")\n",
        "sns.regplot(data=train_set_copy[train_set_copy['sex'] == 2], x='cynicism', y='efficacy', scatter=False, ax=ax3, color=\"violet\")\n",
        "ax3.set_title('Efficacy vs Cynicism')\n",
        "\n",
        "# Exhaustion vs Efficacy\n",
        "ax4 = fig.add_subplot(gs[1, 1])\n",
        "sns.scatterplot(data=train_set_copy, x='exhaustion', y='efficacy', hue='sex', palette={1: \"steelblue\", 2: \"violet\",3:\"orange\"}, ax=ax4)\n",
        "#sns.regplot(data=train_set_copy, x='exhaustion', y='efficacy', scatter=False, ax=ax4, color=\"steelblue\")\n",
        "sns.regplot(data=train_set_copy[train_set_copy['sex'] == 1], x='exhaustion', y='efficacy', scatter=False, ax=ax4, color=\"steelblue\")\n",
        "sns.regplot(data=train_set_copy[train_set_copy['sex'] == 2], x='exhaustion', y='efficacy', scatter=False, ax=ax4, color=\"violet\")\n",
        "ax4.set_title('Efficacy vs Exhaustion')\n",
        "\n",
        "# Adjust layout\n",
        "plt.tight_layout()\n",
        "plt.show()\n"
      ]
    },
    {
      "cell_type": "code",
      "execution_count": null,
      "metadata": {
        "colab": {
          "base_uri": "https://localhost:8080/"
        },
        "id": "EDDx-6OSFCoG",
        "outputId": "ea59051a-6c84-44d2-8710-f4fdd08cba44"
      },
      "outputs": [],
      "source": [
        "# Define a function to perform linear regression and return the slope and its p-value\n",
        "def linear_regression_slope(data, x_var, y_var):\n",
        "    X = sm.add_constant(data[x_var])  # Add a constant term for the intercept\n",
        "    y = data[y_var]\n",
        "    model = sm.OLS(y, X).fit()\n",
        "    print(model.summary())\n",
        "    slope = model.params[1]  # Get the slope (coefficient of the x_var)\n",
        "    p_value = model.pvalues[1]  # Get the p-value of the slope\n",
        "    return slope, p_value\n",
        "\n",
        "# Calculate slopes and p-values for males and females\n",
        "slope_male_depression, p_value_male_depression = linear_regression_slope(train_set_copy[train_set_copy['sex'] == 1], 'depression', 'efficacy')\n",
        "slope_female_depression, p_value_female_depression = linear_regression_slope(train_set_copy[train_set_copy['sex'] == 2], 'depression', 'efficacy')\n",
        "\n",
        "slope_male_anxiety, p_value_male_anxiety = linear_regression_slope(train_set_copy[train_set_copy['sex'] == 1], 'anxiety', 'efficacy')\n",
        "slope_female_anxiety, p_value_female_anxiety = linear_regression_slope(train_set_copy[train_set_copy['sex'] == 2], 'anxiety', 'efficacy')\n",
        "\n",
        "# Print the results\n",
        "print(f\"Male Depression Slope: {slope_male_depression}, p-value: {p_value_male_depression}\")\n",
        "print(f\"Female Depression Slope: {slope_female_depression}, p-value: {p_value_female_depression}\")\n",
        "print(f\"Male Anxiety Slope: {slope_male_anxiety}, p-value: {p_value_male_anxiety}\")\n",
        "print(f\"Female Anxiety Slope: {slope_female_anxiety}, p-value: {p_value_female_anxiety}\")"
      ]
    },
    {
      "cell_type": "markdown",
      "metadata": {
        "id": "Y4O1-PSG9N-d"
      },
      "source": [
        "# **Relation of academic efficacy and empathy**"
      ]
    },
    {
      "cell_type": "code",
      "execution_count": null,
      "metadata": {
        "colab": {
          "base_uri": "https://localhost:8080/",
          "height": 237
        },
        "id": "BoWVwgsc6AT8",
        "outputId": "c9225749-e687-444b-ff4c-275e96d1b191"
      },
      "outputs": [],
      "source": [
        "empathy_columns = train_set_copy.iloc[:, np.r_[10:15, 19]]\n",
        "corr_matrix_empathy_columns = empathy_columns.corr()\n",
        "display(corr_matrix_empathy_columns)"
      ]
    },
    {
      "cell_type": "code",
      "execution_count": null,
      "metadata": {
        "colab": {
          "base_uri": "https://localhost:8080/",
          "height": 537
        },
        "id": "XLN5pPhXCG83",
        "outputId": "e605f658-24d7-49d8-e969-4ba414048b82"
      },
      "outputs": [],
      "source": [
        "plt.figure(figsize=(8, 4))  # Set the size of the plot\n",
        "sns.heatmap(corr_matrix_empathy_columns, annot=True, cmap='coolwarm', center=0)\n",
        "plt.title('Correlation Matrix Heatmap')\n",
        "plt.show()"
      ]
    },
    {
      "cell_type": "code",
      "execution_count": null,
      "metadata": {
        "colab": {
          "base_uri": "https://localhost:8080/",
          "height": 1000
        },
        "id": "cq9tbSP7nww7",
        "outputId": "42bc36a0-6261-40ca-803b-1653fad58223"
      },
      "outputs": [],
      "source": [
        "# Filter the dataset for males (sex == 1)\n",
        "male_data = train_set_copy[train_set_copy['sex'] == 1]\n",
        "empathy_columns_male = male_data.iloc[:,np.r_[10:19]]\n",
        "corr_matrix_empathy_male = empathy_columns_male.corr()\n",
        "\n",
        "# Plot correlation heatmap for males\n",
        "plt.figure(figsize=(8, 6))\n",
        "sns.heatmap(corr_matrix_empathy_male, annot=True, cmap='coolwarm', vmin=-1, vmax=1)\n",
        "plt.title('Correlation Heatmap for Empathy Columns (Males)')\n",
        "plt.show()\n",
        "\n",
        "# Filter the dataset for females (sex == 2)\n",
        "female_data = train_set_copy[train_set_copy['sex'] == 2]\n",
        "empathy_columns_female = female_data.iloc[:, np.r_[10:19]]\n",
        "corr_matrix_empathy_female = empathy_columns_female.corr()\n",
        "\n",
        "# Plot correlation heatmap for females\n",
        "plt.figure(figsize=(8, 6))\n",
        "sns.heatmap(corr_matrix_empathy_female, annot=True, cmap='coolwarm', vmin=-1, vmax=1)\n",
        "plt.title('Correlation Heatmap for Empathy Columns (Females)')\n",
        "plt.show()"
      ]
    },
    {
      "cell_type": "markdown",
      "metadata": {
        "id": "lDLZTRbQK11d"
      },
      "source": [
        "# ***Correlation Network Analysis***"
      ]
    },
    {
      "cell_type": "code",
      "execution_count": null,
      "metadata": {
        "colab": {
          "base_uri": "https://localhost:8080/",
          "height": 659
        },
        "id": "LvPgxTO2K_Wj",
        "outputId": "14ceb7fa-744b-4e4b-8f7c-46c0cb43fd83"
      },
      "outputs": [],
      "source": [
        "from statsmodels.stats.multitest import multipletests\n",
        "from scipy.stats import pearsonr\n",
        "import networkx as nx\n",
        "\n",
        "\n",
        "data = train_set_copy.iloc[:, np.r_[10:13, 15:20]]\n",
        "# Calculate the correlation matrix\n",
        "correlation_matrix = data.corr()\n",
        "\n",
        "# Threshold for significance (P-value adjustment with Benjamini-Hochberg correction)\n",
        "alpha = 0.05\n",
        "p_values = np.array([pearsonr(data[col1], data[col2])[1]\n",
        "                     for col1 in data.columns for col2 in data.columns]).reshape(correlation_matrix.shape)\n",
        "_, corrected_p_values, _, _ = multipletests(p_values.flatten(), alpha=alpha, method='fdr_bh')\n",
        "corrected_p_values = corrected_p_values.reshape(correlation_matrix.shape)\n",
        "\n",
        "# Create a graph\n",
        "G = nx.Graph()\n",
        "\n",
        "# Add nodes (variables)\n",
        "for col in data.columns:\n",
        "    G.add_node(col)\n",
        "\n",
        "# Add edges (correlations) only if significant after correction\n",
        "for i, col1 in enumerate(data.columns):\n",
        "    for j, col2 in enumerate(data.columns):\n",
        "        if i != j and corrected_p_values[i, j] < alpha:\n",
        "            weight = correlation_matrix.iloc[i, j]\n",
        "            if abs(weight) >= 0.25:  # Consider correlations with r >= 0.25\n",
        "                G.add_edge(col1, col2, weight=weight)\n",
        "\n",
        "# Plot the graph\n",
        "plt.figure(figsize=(6, 6))\n",
        "pos = nx.spring_layout(G)\n",
        "edges = G.edges(data=True)\n",
        "\n",
        "nx.draw(G, pos, with_labels=True, node_size=500, node_color='lightblue', font_size=10)\n",
        "nx.draw_networkx_edges(G, pos, edgelist=edges, width=[d['weight']*5 for (u, v, d) in edges])\n",
        "\n",
        "plt.title('Correlation Network')\n",
        "plt.show()"
      ]
    },
    {
      "cell_type": "code",
      "execution_count": 90,
      "metadata": {
        "id": "xHTLWEWbL6PP"
      },
      "outputs": [],
      "source": [
        "#Calculate correlation matrix and p-values\n",
        "correlations = data.corr()\n",
        "p_values = np.zeros_like(correlations)\n",
        "\n",
        "for i in range(data.shape[1]):\n",
        "    for j in range(data.shape[1]):\n",
        "        if i != j:\n",
        "            _, p_values[i, j] = pearsonr(data.iloc[:, i], data.iloc[:, j])\n",
        "\n",
        "# Apply Benjamini-Hochberg correction for multiple comparisons\n",
        "p_values_flat = p_values.flatten()\n",
        "_, corrected_p_values_flat, _, _ = multipletests(p_values_flat, method='fdr_bh')\n",
        "corrected_p_values = corrected_p_values_flat.reshape(p_values.shape)\n",
        "\n",
        "# Apply thresholds (r >= 0.25 and p < 0.05)\n",
        "significant_edges = np.where((np.abs(correlations) >= 0.25) & (corrected_p_values < 0.05), correlations, 0)"
      ]
    },
    {
      "cell_type": "code",
      "execution_count": null,
      "metadata": {
        "colab": {
          "base_uri": "https://localhost:8080/",
          "height": 525
        },
        "id": "J2i3z5RoMAMX",
        "outputId": "bdff7c0a-457b-412c-a4a8-3d43669b7237"
      },
      "outputs": [],
      "source": [
        "# Create an undirected graph\n",
        "G = nx.Graph()\n",
        "\n",
        "# Add nodes (symptoms)\n",
        "for col in data.columns:\n",
        "    G.add_node(col)\n",
        "\n",
        "\n",
        "# Add edges for significant correlations with edge weights\n",
        "for i in range(len(data.columns)):\n",
        "    for j in range(i + 1, len(data.columns)):  # Avoid duplicate edges\n",
        "        if significant_edges[i, j] != 0:\n",
        "            # Determine edge color based on the sign of correlation\n",
        "            color = 'green' if significant_edges[i, j] > 0 else 'red'\n",
        "            G.add_edge(data.columns[i], data.columns[j], weight=significant_edges[i, j], color=color)\n",
        "\n",
        "# Extract edges and colors\n",
        "edges = G.edges(data=True)\n",
        "weights = [d['weight'] for (u, v, d) in edges]\n",
        "colors = [d['color'] for (u, v, d) in edges]\n",
        "\n",
        "# Normalize weights for edge width\n",
        "norm_weights = [abs(w) for w in weights]\n",
        "\n",
        "# ciruclar layout for easy visualization\n",
        "pos = nx.circular_layout(G)\n",
        "\n",
        "# Plot the graph\n",
        "plt.figure(figsize=(8, 6))\n",
        "\n",
        "# Draw nodes\n",
        "nx.draw_networkx_nodes(G, pos, node_color='lightblue', node_size=1600)\n",
        "\n",
        "# Draw edges with color coding based on weights\n",
        "nx.draw_networkx_edges(G, pos, edgelist=edges, edge_color=colors, width=[w*7 for w in norm_weights])\n",
        "\n",
        "# Draw labels\n",
        "nx.draw_networkx_labels(G, pos, font_size=10, font_color=\"black\")\n",
        "\n",
        "plt.style.use('default')  # Reset style to default\n",
        "plt.rc('font', family='serif', size=14)\n",
        "\n",
        "plt.title('Correlation Network with Weighted and Color-Coded Edges')\n",
        "\n",
        "# Show the plot\n",
        "plt.show()"
      ]
    },
    {
      "cell_type": "code",
      "execution_count": null,
      "metadata": {
        "colab": {
          "base_uri": "https://localhost:8080/",
          "height": 807
        },
        "id": "cKKp9aZ3I4M6",
        "outputId": "cdd557ca-6564-40ae-c40b-a8b564b85fb6"
      },
      "outputs": [],
      "source": [
        "# Original node names\n",
        "node_names = {\n",
        "    'total_empathy': 'Total\\nEmpathy',\n",
        "    'cognitive_empathy': 'Cognitive\\nEmpathy',\n",
        "    'affective_empathy': 'Affective\\nEmpathy',\n",
        "    'exhaustion': 'Exhaustion',\n",
        "    'depression': 'Depression',\n",
        "    'anxiety': 'Anxiety',\n",
        "    'efficacy': 'Efficacy',\n",
        "    'cynicism': 'Cynicism'\n",
        "\n",
        "}\n",
        "\n",
        "# Rename nodes in the graph\n",
        "G = nx.relabel_nodes(G, node_names)\n",
        "\n",
        "# Extract edges and colors again after renaming nodes\n",
        "edges = G.edges(data=True)\n",
        "weights = [d['weight'] for (u, v, d) in edges]\n",
        "colors = [d['color'] for (u, v, d) in edges]\n",
        "\n",
        "# Normalize weights for edge width\n",
        "norm_weights = [abs(w) for w in weights]\n",
        "\n",
        "# Circular layout for easy visualization\n",
        "pos = nx.circular_layout(G,scale=1)\n",
        "# pos = nx.spring_layout(G, k=30, seed=16) \n",
        "\n",
        "# Plot the graph\n",
        "plt.figure(figsize=(7, 5.7))\n",
        "\n",
        "# Draw nodes\n",
        "#nx.draw_networkx_nodes(G, pos, node_color='lightblue', node_size=7800)\n",
        "nx.draw_networkx_nodes(G, pos, node_color='white', node_size=3100,edgecolors='black')\n",
        "\n",
        "# Draw edges with color coding based on weights\n",
        "nx.draw_networkx_edges(G, pos, edgelist=edges, edge_color=colors, width=[w*7 for w in norm_weights])\n",
        "\n",
        "# Draw labels\n",
        "nx.draw_networkx_labels(G, pos, font_size=10, font_color=\"black\", font_weight='regular')\n",
        "\n",
        "\n",
        "\n",
        "plt.axis('off')\n",
        "\n",
        "# Adjust layout to prevent cutting off nodes\n",
        "#plt.tight_layout()\n",
        "\n",
        "#Save the figure\n",
        "plt.savefig('content/Correlation Network with Weighted and Color-Coded Edges-1.png', dpi=500, bbox_inches='tight')\n",
        "plt.savefig('content/Correlation Network with Weighted and Color-Coded Edges-1.pdf', dpi=500, bbox_inches='tight')\n",
        "# Show the plot\n",
        "plt.show()\n"
      ]
    },
    {
      "cell_type": "code",
      "execution_count": null,
      "metadata": {
        "colab": {
          "base_uri": "https://localhost:8080/"
        },
        "id": "_ZIpNSEsMZ6x",
        "outputId": "78418814-ea14-461f-e687-19c916cded0b"
      },
      "outputs": [],
      "source": [
        "!pip install networkx"
      ]
    },
    {
      "cell_type": "code",
      "execution_count": null,
      "metadata": {
        "colab": {
          "base_uri": "https://localhost:8080/"
        },
        "id": "gpKnl76nMQHs",
        "outputId": "268a3a69-ea49-41fa-9e08-7e07572232e4"
      },
      "outputs": [],
      "source": [
        "import networkx as nx\n",
        "from networkx.algorithms.clique import find_cliques\n",
        "from networkx.algorithms.approximation import clique\n",
        "\n",
        "# Identify all maximal cliques\n",
        "cliques = list(find_cliques(G))\n",
        "\n",
        "# Find the largest maximal clique (i.e., the maximum clique)\n",
        "maximum_clique = max(cliques, key=len)\n",
        "\n",
        "print(\"Maximal Cliques: \", cliques)\n",
        "print(\"Maximum Clique: \", maximum_clique)"
      ]
    },
    {
      "cell_type": "code",
      "execution_count": null,
      "metadata": {
        "colab": {
          "base_uri": "https://localhost:8080/",
          "height": 862
        },
        "id": "DFoql6k6SC-R",
        "outputId": "95358b69-43ca-4c4a-94b0-a16a854b9d3f"
      },
      "outputs": [],
      "source": [
        "### Identifying Cliques\n",
        "\n",
        "# Identify all maximal cliques\n",
        "cliques = list(find_cliques(G))\n",
        "\n",
        "# Find the largest maximal clique (i.e., the maximum clique)\n",
        "maximum_clique = max(cliques, key=len)\n",
        "\n",
        "print(\"Maximal Cliques: \", cliques)\n",
        "print(\"Maximum Clique: \", maximum_clique)\n",
        "\n",
        "### Visualize Cliques\n",
        "\n",
        "# Create a new plot to visualize the cliques // (10,6)-->3800-->19\n",
        "# plt.figure(figsize=(11, 8))\n",
        "plt.figure(figsize=(7, 5.7))\n",
        "\n",
        "# Draw the base network again\n",
        "# nx.draw_networkx_nodes(G, pos, node_color='lightblue', node_size=7800)\n",
        "nx.draw_networkx_nodes(G, pos, node_color='white', node_size=3100,edgecolors='black')\n",
        "nx.draw_networkx_edges(G, pos, edgelist=edges, edge_color=colors, width=[w*5 for w in norm_weights])\n",
        "nx.draw_networkx_labels(G, pos, font_size=10, font_color=\"black\")# was 10\n",
        "\n",
        "# Highlight maximal cliques (all cliques) with blue edges\n",
        "for clique in cliques:\n",
        "    clique_edges = [(clique[i], clique[j]) for i in range(len(clique)) for j in range(i + 1, len(clique))]\n",
        "    nx.draw_networkx_edges(G, pos, edgelist=clique_edges, edge_color='violet', width=3, alpha=0.6)\n",
        "\n",
        "# Highlight the maximum clique with darker blue edges\n",
        "max_clique_edges = [(maximum_clique[i], maximum_clique[j]) for i in range(len(maximum_clique)) for j in range(i + 1, len(maximum_clique))]\n",
        "nx.draw_networkx_edges(G, pos, edgelist=max_clique_edges, edge_color='blue', width=5, alpha=1.0)\n",
        "\n",
        "#plt.title('Correlation Network with Maximal and Maximum Cliques')\n",
        "plt.axis('off')\n",
        "\n",
        "#Save the figure\n",
        "plt.savefig('content/Correlation Network with Maximal and Maximum Cliques-1.pdf', dpi=500, bbox_inches='tight')\n",
        "plt.savefig('content/Correlation Network with Maximal and Maximum Cliques-1.png', dpi=500, bbox_inches='tight')\n",
        "# Show the plot\n",
        "plt.show()"
      ]
    },
    {
      "cell_type": "code",
      "execution_count": null,
      "metadata": {
        "colab": {
          "base_uri": "https://localhost:8080/"
        },
        "id": "QCNxPIszpgCb",
        "outputId": "24324f6d-55cf-41c6-e628-e9dbb4c6722a"
      },
      "outputs": [],
      "source": [
        "# Calculate correlation matrix\n",
        "correlations = data.corr()\n",
        "\n",
        "# Calculate p-values for each correlation\n",
        "p_values = np.zeros_like(correlations)\n",
        "for i in range(data.shape[1]):\n",
        "    for j in range(data.shape[1]):\n",
        "        if i != j:\n",
        "            _, p_values[i, j] = pearsonr(data.iloc[:, i], data.iloc[:, j])\n",
        "\n",
        "# Apply Benjamini-Hochberg correction\n",
        "p_values_flat = p_values.flatten()\n",
        "_, corrected_p_values_flat, _, _ = multipletests(p_values_flat, method='fdr_bh')\n",
        "corrected_p_values = corrected_p_values_flat.reshape(p_values.shape)\n",
        "\n",
        "# Create a matrix for storing the correlation coefficients and significance asterisks\n",
        "formatted_matrix = pd.DataFrame(index=correlations.index, columns=correlations.columns)\n",
        "\n",
        "# Apply thresholds and add stars based on significance levels\n",
        "for i in range(data.shape[1]):\n",
        "    for j in range(i + 1):\n",
        "        corr_value = correlations.iloc[i, j]\n",
        "        if corrected_p_values[i, j] < 0.001:\n",
        "            star = '***'\n",
        "        elif corrected_p_values[i, j] < 0.01:\n",
        "            star = '**'\n",
        "        elif corrected_p_values[i, j] < 0.05:\n",
        "            star = '*'\n",
        "        else:\n",
        "            star = ''\n",
        "        formatted_matrix.iloc[i, j] = f\"{corr_value:.2f}{star}\"\n",
        "        formatted_matrix.iloc[j, i] = ''  # Set upper triangle to empty\n",
        "\n",
        "# Convert the formatted matrix to a LaTeX table format\n",
        "latex_table = formatted_matrix.to_latex()\n",
        "\n",
        "# Display the formatted correlation matrix\n",
        "print(\"Formatted Correlation Matrix:\\n\")\n",
        "print(formatted_matrix)\n",
        "\n",
        "# Display the LaTeX table\n",
        "print(\"\\nLaTeX Table:\\n\")\n",
        "print(latex_table)"
      ]
    },
    {
      "cell_type": "code",
      "execution_count": null,
      "metadata": {
        "colab": {
          "base_uri": "https://localhost:8080/",
          "height": 862
        },
        "id": "x_zC7yHvUwbA",
        "outputId": "5f81f164-121e-490b-bf67-e1b2a9ababf5"
      },
      "outputs": [],
      "source": [
        "from sklearn.covariance import GraphicalLassoCV\n",
        "\n",
        "# Fit a Graphical Lasso model to estimate partial correlations\n",
        "model = GraphicalLassoCV()\n",
        "model.fit(data)\n",
        "\n",
        "# Extract the partial correlation matrix\n",
        "partial_corr_matrix = -model.precision_ / np.sqrt(np.outer(np.diag(model.precision_), np.diag(model.precision_)))\n",
        "\n",
        "# Create a graph for partial correlations\n",
        "G_partial = nx.Graph()\n",
        "\n",
        "# Add nodes (variables)\n",
        "for col in data.columns:\n",
        "    G_partial.add_node(col)\n",
        "\n",
        "# Add edges (partial correlations) only if significant\n",
        "for i, col1 in enumerate(data.columns):\n",
        "    for j, col2 in enumerate(data.columns):\n",
        "        if i != j and abs(partial_corr_matrix[i, j]) >= 0.25:\n",
        "            G_partial.add_edge(col1, col2, weight=partial_corr_matrix[i, j])\n",
        "\n",
        "# Plot the partial correlation network\n",
        "plt.figure(figsize=(8, 8))\n",
        "pos = nx.circular_layout(G_partial)\n",
        "edges = G_partial.edges(data=True)\n",
        "\n",
        "nx.draw(G_partial, pos, with_labels=True, node_size=500, node_color='lightgreen', font_size=10)\n",
        "nx.draw_networkx_edges(G_partial, pos, edgelist=edges, width=[abs(d['weight'])*5 for (u, v, d) in edges])\n",
        "\n",
        "plt.title('Partial Correlation Network')\n",
        "plt.show()\n"
      ]
    },
    {
      "cell_type": "markdown",
      "metadata": {
        "id": "17gyT5CLBtcz"
      },
      "source": [
        "# **Relation between depression, anxiety, exhaustion, and academic efficacy.**"
      ]
    },
    {
      "cell_type": "code",
      "execution_count": null,
      "metadata": {
        "colab": {
          "base_uri": "https://localhost:8080/",
          "height": 206
        },
        "id": "VWL9qbF3BO9a",
        "outputId": "c9371eb1-4f87-4e49-8d1e-4a07a165ede3"
      },
      "outputs": [],
      "source": [
        "empathy_columns = train_set_copy.iloc[:, np.r_[15:20]]\n",
        "corr_matrix_empathy_columns = empathy_columns.corr()\n",
        "display(corr_matrix_empathy_columns)"
      ]
    },
    {
      "cell_type": "code",
      "execution_count": null,
      "metadata": {
        "colab": {
          "base_uri": "https://localhost:8080/",
          "height": 472
        },
        "id": "dxK5C9QwBX9p",
        "outputId": "d1352b83-3e15-4f51-9c4b-3c1504758935"
      },
      "outputs": [],
      "source": [
        "# Capitalize the column and index names\n",
        "corr_matrix_empathy_columns = corr_matrix_empathy_columns.rename(\n",
        "    columns=lambda x: x.capitalize(),\n",
        "    index=lambda x: x.capitalize()\n",
        ")\n",
        "\n",
        "plt.style.use('default')  # Reset style to default\n",
        "# Set font and plot the heatmap\n",
        "plt.rc('font', family='serif', size=12)\n",
        "plt.figure(figsize=(8, 2))  # Set the size of the plot\n",
        "sns.heatmap(corr_matrix_empathy_columns, annot=True, cmap='coolwarm', center=0)\n",
        "\n",
        "# Set title and show the plot\n",
        "#plt.title('Correlation Matrix Heatmap')\n",
        "plt.savefig('content/cmh between dep,anx,exh,cy,efficacy.pdf', dpi=500, bbox_inches='tight')\n",
        "plt.savefig('content/cmh between dep,anx,exh,cy,efficacy.png', dpi=500, bbox_inches='tight')\n",
        "plt.show()"
      ]
    },
    {
      "cell_type": "code",
      "execution_count": null,
      "metadata": {
        "colab": {
          "base_uri": "https://localhost:8080/",
          "height": 1000
        },
        "id": "pqo-80Honq5P",
        "outputId": "56297537-027d-43e7-baca-33ab869273ad"
      },
      "outputs": [],
      "source": [
        "# Filter the dataset for males (sex == 1)\n",
        "male_data = train_set_copy[train_set_copy['sex'] == 1]\n",
        "empathy_columns_male = male_data.iloc[:, np.r_[15:20]]\n",
        "corr_matrix_empathy_male = empathy_columns_male.corr()\n",
        "\n",
        "# Plot correlation heatmap for males\n",
        "plt.figure(figsize=(8, 6))\n",
        "sns.heatmap(corr_matrix_empathy_male, annot=True, cmap='coolwarm', vmin=-1, vmax=1)\n",
        "plt.title('Correlation Heatmap for Empathy Columns (Males)')\n",
        "plt.show()\n",
        "\n",
        "# Filter the dataset for females (sex == 2)\n",
        "female_data = train_set_copy[train_set_copy['sex'] == 2]\n",
        "empathy_columns_female = female_data.iloc[:, np.r_[15:20]]\n",
        "corr_matrix_empathy_female = empathy_columns_female.corr()\n",
        "\n",
        "# Plot correlation heatmap for females\n",
        "plt.figure(figsize=(8, 6))\n",
        "sns.heatmap(corr_matrix_empathy_female, annot=True, cmap='coolwarm', vmin=-1, vmax=1)\n",
        "plt.title('Correlation Heatmap for Empathy Columns (Females)')\n",
        "plt.show()"
      ]
    },
    {
      "cell_type": "markdown",
      "metadata": {
        "id": "rRGUeQovBOjp"
      },
      "source": []
    },
    {
      "cell_type": "markdown",
      "metadata": {
        "id": "_1risLDJCvO2"
      },
      "source": [
        "No meaningful corelation between efficacy and empathy factors."
      ]
    },
    {
      "cell_type": "code",
      "execution_count": null,
      "metadata": {
        "colab": {
          "base_uri": "https://localhost:8080/",
          "height": 575
        },
        "id": "TP0fP81ED_T3",
        "outputId": "ad770d86-e716-42e8-ae05-fc8b5d2f76a3"
      },
      "outputs": [],
      "source": [
        "# Filter the data to include only Male and Female\n",
        "filtered_data = input.copy()\n",
        "# Map the 'sex' column to 'Male', 'Female', and 'Other' strings\n",
        "filtered_data['sex'] = filtered_data['sex'].map({1: 'Male', 2: 'Female', 3: 'Other'})\n",
        "\n",
        "# Filter the data to include only Male and Female\n",
        "filtered_data = filtered_data[filtered_data['sex'].isin(['Male', 'Female'])]\n",
        "# Group by gender and calculate the mean impact of anxiety and cynicism on academic efficacy\n",
        "mean_impacts = filtered_data.groupby('sex').agg({\n",
        "    'anxiety': 'mean',\n",
        "    'cynicism': 'mean',\n",
        "    'efficacy': 'mean'\n",
        "}).reset_index()\n",
        "\n",
        "# Melt the DataFrame for easier plotting\n",
        "mean_impacts_melted = mean_impacts.melt(id_vars='sex', value_vars=['anxiety', 'cynicism', 'efficacy'],\n",
        "                                        var_name='Impact_Type', value_name='Mean_Impact')\n",
        "\n",
        "# Create bar plots\n",
        "plt.figure(figsize=(12, 6))\n",
        "sns.barplot(data=mean_impacts_melted, x='Impact_Type', y='Mean_Impact', hue='sex')\n",
        "plt.title('Gender Differences in Mental Health Impact on Academic Efficacy')\n",
        "plt.xlabel('Impact Type')\n",
        "plt.ylabel('Mean Impact')\n",
        "plt.legend(title='Gender', labels=['Female', 'Male'])  # Adjust labels as per your dataset's encoding\n",
        "plt.show()"
      ]
    },
    {
      "cell_type": "code",
      "execution_count": null,
      "metadata": {
        "colab": {
          "base_uri": "https://localhost:8080/",
          "height": 712
        },
        "id": "kgrstXrmNgYW",
        "outputId": "cb436566-096d-46cc-df82-43a089440c63"
      },
      "outputs": [],
      "source": [
        "df=input.copy()\n",
        "# Map the 'sex' column to 'Male' and 'Female' strings\n",
        "df['sex'] = df['sex'].map({1: 'Male', 2: 'Female'})\n",
        "# Group by curriculum year and gender, then calculate the mean values\n",
        "grouped_data = df.groupby(['year', 'sex']).agg({\n",
        "    'total_empathy': 'mean',\n",
        "    'depression': 'mean',\n",
        "    'anxiety': 'mean'\n",
        "}).reset_index()\n",
        "\n",
        "# Melt the DataFrame for easier plotting\n",
        "melted_data = grouped_data.melt(id_vars=['year', 'sex'],\n",
        "                                value_vars=['total_empathy','depression','anxiety',],\n",
        "                                var_name='Measure', value_name='Mean_Value')\n",
        "\n",
        "\n",
        "plt.style.use('default')  # Reset style to default\n",
        "plt.rc('font', family='serif', size=16)\n",
        "# Create line plots\n",
        "plt.figure(figsize=(8, 8))\n",
        "sns.lineplot(data=melted_data, x='year', y='Mean_Value', hue='sex', style='Measure', markers=True, size= 19)\n",
        "# Add a grid with light dotted lines\n",
        "plt.grid(True, linestyle=':', linewidth=0.5, color='grey')\n",
        "#plt.title('Trends in Empathy, Cynicism, and Academic Efficacy Across Curriculum Years, Separated by Gender')\n",
        "plt.xlabel('Curriculum Year')\n",
        "plt.ylabel('Mean Value')\n",
        "legend = plt.legend(title='Gender and Measure', bbox_to_anchor=(1,1), loc='upper left',fontsize=16)\n",
        "legend.get_texts()[0].set_text('Gender')\n",
        "legend.get_texts()[1].set_text('Female')\n",
        "legend.get_texts()[2].set_text('Male')\n",
        "legend.get_texts()[3].set_text('Measure')\n",
        "legend.get_texts()[4].set_text('Total Empathy')\n",
        "legend.get_texts()[5].set_text('Depression')\n",
        "legend.get_texts()[6].set_text('Anxiety')\n",
        "plt.savefig('content/Trends in Empathy, Cynicism, and Academic Efficacy Across Curriculum Years, Separated by Gender.pdf', dpi=500, bbox_inches='tight')\n",
        "plt.show()"
      ]
    },
    {
      "cell_type": "code",
      "execution_count": null,
      "metadata": {
        "colab": {
          "base_uri": "https://localhost:8080/",
          "height": 722
        },
        "id": "J2_foUzvMHY_",
        "outputId": "1d62703b-ccfd-4e45-f4bb-84cdd4128fb1"
      },
      "outputs": [],
      "source": [
        "import pandas as pd\n",
        "import matplotlib.pyplot as plt\n",
        "import seaborn as sns\n",
        "\n",
        "# Assuming 'input' is your DataFrame\n",
        "df = input.copy()\n",
        "\n",
        "# Map the 'sex' column to 'Male' and 'Female' strings\n",
        "df['sex'] = df['sex'].map({1: 'Male', 2: 'Female'})\n",
        "\n",
        "# Group by curriculum year and gender, then calculate the mean values\n",
        "grouped_data = df.groupby(['year', 'sex']).agg({\n",
        "    'total_empathy': 'mean',\n",
        "    'depression': 'mean',\n",
        "    'anxiety': 'mean'\n",
        "}).reset_index()\n",
        "\n",
        "# Melt the DataFrame for easier plotting\n",
        "melted_data = grouped_data.melt(id_vars=['year', 'sex'],\n",
        "                                value_vars=['total_empathy', 'depression', 'anxiety'],\n",
        "                                var_name='Measure', value_name='Mean_Value')\n",
        "\n",
        "plt.style.use('default')  # Reset style to default\n",
        "plt.rc('font', family='serif', size=12)\n",
        "\n",
        "# Create line plots with distinguishable line styles and markers\n",
        "plt.figure(figsize=(8, 4))\n",
        "sns.lineplot(data=melted_data, x='year', y='Mean_Value', hue='sex', style='Measure',\n",
        "             markers=['o', 's', '^'], dashes=[(2, 0), (2, 2), (6, 6)], markersize=10, linewidth=2.5)\n",
        "\n",
        "plt.xlabel(column.capitalize(), fontfamily='serif', fontsize=20)\n",
        "plt.ylabel(column.capitalize(), fontfamily='serif', fontsize=20)\n",
        "plt.xlabel('Curriculum Year')\n",
        "plt.ylabel('Mean Value')\n",
        "\n",
        "# Manually set markers to have no fill\n",
        "for line in plt.gca().get_lines():\n",
        "    line.set_markerfacecolor('none')  # Remove marker fill (no fill)\n",
        "    line.set_markeredgewidth(2)        # Set the marker edge width\n",
        "    line.set_markeredgecolor(line.get_color())  # Set marker edge color to line color\n",
        "\n",
        "# Add a grid with light dotted lines\n",
        "plt.grid(True, linestyle=':', linewidth=0.75, color='black')\n",
        "\n",
        "# Customize the legend for better clarity\n",
        "legend = plt.legend(title='Gender and Measure', bbox_to_anchor=(1, 0.8), loc='upper left', fontsize=15)\n",
        "legend=plt.legend( bbox_to_anchor=(1, 0.8),fontsize=15)\n",
        "legend.get_texts()[0].set_text('')\n",
        "legend.get_texts()[1].set_text('Female')\n",
        "legend.get_texts()[2].set_text('Male')\n",
        "legend.get_texts()[3].set_text('')\n",
        "legend.get_texts()[4].set_text('Total Empathy')\n",
        "legend.get_texts()[5].set_text('Depression')\n",
        "legend.get_texts()[6].set_text('Anxiety')\n",
        "\n",
        "# legend.get_texts()[0].set_text('Female')\n",
        "# legend.get_texts()[1].set_text('Male')\n",
        "# legend.get_texts()[2].set_text('Total Empathy')\n",
        "# legend.get_texts()[3].set_text('Depression')\n",
        "# legend.get_texts()[4].set_text('Anxiety')\n",
        "\n",
        "# Save the plot as a PDF\n",
        "plt.savefig('content/Trends in Empathy, Cynicism, and Academic Efficacy Across Curriculum Years, Separated by Gender.pdf', dpi=500, bbox_inches='tight')\n",
        "# Save the plot as a PDF\n",
        "plt.savefig('content/Trends in Empathy, Cynicism, and Academic Efficacy Across Curriculum Years, Separated by Gender.png', dpi=500, bbox_inches='tight')\n",
        "plt.show()\n"
      ]
    },
    {
      "cell_type": "code",
      "execution_count": null,
      "metadata": {
        "colab": {
          "base_uri": "https://localhost:8080/",
          "height": 1000
        },
        "id": "zp1zxVSHrY6C",
        "outputId": "a0fb7500-1704-4c40-86c4-8b6cf41c00bb"
      },
      "outputs": [],
      "source": [
        "import pandas as pd\n",
        "import numpy as np\n",
        "import statsmodels.api as sm\n",
        "import matplotlib.pyplot as plt\n",
        "\n",
        "df=input.copy()\n",
        "# List of dependent variables\n",
        "dependent_vars = [\n",
        "    'total_empathy', 'cognitive_empathy', 'affective_empathy',\n",
        "    'modify_presentation', 'emotion_recognition', 'depression',\n",
        "    'anxiety', 'exhaustion', 'cynicism', 'efficacy'\n",
        "]\n",
        "\n",
        "\n",
        "# Plotting setup\n",
        "plt.figure(figsize=(12, 8))\n",
        "\n",
        "colors = {1: 'blue', 2: 'pink'}\n",
        "labels = {1: 'Male', 2: 'Female'}\n",
        "\n",
        "for var in dependent_vars:\n",
        "    plt.figure(figsize=(10, 6))\n",
        "\n",
        "    for sex in [1, 2]:  # Loop over male and female\n",
        "        # Filter data by sex\n",
        "        sex_df = df[df['sex'] == sex]\n",
        "\n",
        "        # Aggregate by Year\n",
        "        aggregated_df = sex_df.groupby('year')[var].mean().reset_index()\n",
        "\n",
        "        X = aggregated_df[['year']]\n",
        "        y = aggregated_df[var]\n",
        "        X = sm.add_constant(X)  # Adds a constant term to the predictor\n",
        "\n",
        "        model = sm.OLS(y, X).fit()\n",
        "        print(f\"Regression results for {var} (Sex={sex}):\\n\", model.summary())\n",
        "\n",
        "        # Plot the regression\n",
        "        plt.scatter(aggregated_df['year'], aggregated_df[var], color=colors[sex], label=f'{labels[sex]} (data)')\n",
        "        plt.plot(aggregated_df['year'], model.predict(X), color=colors[sex], label=f'{labels[sex]} (regression)')\n",
        "\n",
        "    plt.xlabel('Year')\n",
        "    plt.ylabel(f'Mean {var.replace(\"_\", \" \").title()}')\n",
        "    plt.title(f'Mean {var.replace(\"_\", \" \").title()} vs Year by Sex')\n",
        "    plt.legend()\n",
        "    plt.show()\n"
      ]
    },
    {
      "cell_type": "code",
      "execution_count": null,
      "metadata": {
        "colab": {
          "base_uri": "https://localhost:8080/"
        },
        "id": "70tKwb-5t9qf",
        "outputId": "732e5759-3b7d-4b90-ac6a-340592c95ac5"
      },
      "outputs": [],
      "source": [
        "import statsmodels.formula.api as smf\n",
        "\n",
        "# Mixed-Effects Models for each dependent variable by gender\n",
        "for var in dependent_vars:\n",
        "    for sex in [1, 2]:  # Loop over male and female\n",
        "        # Filter data by sex\n",
        "        sex_df = df[df['sex'] == sex]\n",
        "\n",
        "        model = smf.mixedlm(f\"{var} ~ year\", data=sex_df, groups=sex_df[\"id\"])\n",
        "        result = model.fit()\n",
        "        print(f\"Mixed-Effects Model results for {var} (Sex={sex}):\\n\", result.summary())\n"
      ]
    },
    {
      "cell_type": "code",
      "execution_count": null,
      "metadata": {
        "colab": {
          "base_uri": "https://localhost:8080/",
          "height": 1000
        },
        "id": "KrRd06_xu0Pv",
        "outputId": "d876aa0a-4e4d-4569-849f-95e0258e56d4"
      },
      "outputs": [],
      "source": [
        "import matplotlib.pyplot as plt\n",
        "import numpy as np\n",
        "\n",
        "dependent_vars = [\n",
        "    'total_empathy', 'cognitive_empathy', 'affective_empathy',\n",
        "    'modify_presentation', 'emotion_recognition', 'depression',\n",
        "    'anxiety', 'exhaustion', 'cynicism', 'efficacy'\n",
        "]\n",
        "# Initialize a plot for each variable\n",
        "for var in dependent_vars:\n",
        "    plt.figure(figsize=(10, 6))\n",
        "\n",
        "    # Plot for each sex\n",
        "    for sex in [1, 2]:\n",
        "        # Filter data by sex\n",
        "        sex_df = df[df['sex'] == sex]\n",
        "\n",
        "        # Fit the mixed-effects model\n",
        "        model = smf.mixedlm(f\"{var} ~ year\", data=sex_df, groups=sex_df[\"id\"])\n",
        "        result = model.fit()\n",
        "\n",
        "        # Extract the coefficients\n",
        "        intercept = result.params['Intercept']\n",
        "        slope = result.params['year']\n",
        "\n",
        "        # Generate the line of best fit\n",
        "        years = np.linspace(sex_df['year'].min(), sex_df['year'].max(), 100)\n",
        "        predicted_values = intercept + slope * years\n",
        "\n",
        "        # Plot the original data points\n",
        "        plt.scatter(sex_df['year'], sex_df[var], alpha=0.5, label=f'Sex={sex} Data')\n",
        "\n",
        "        # Plot the regression line\n",
        "        plt.plot(years, predicted_values, label=f'Sex={sex} Fit', linewidth=2)\n",
        "\n",
        "    # Add labels and title\n",
        "    plt.xlabel('Year')\n",
        "    plt.ylabel(var)\n",
        "    plt.title(f'Regression Line for {var} by Sex')\n",
        "    plt.legend()\n",
        "    plt.show()\n"
      ]
    },
    {
      "cell_type": "code",
      "execution_count": null,
      "metadata": {
        "colab": {
          "base_uri": "https://localhost:8080/"
        },
        "id": "JcIxYcU58AmW",
        "outputId": "2f52805e-d49a-4896-9f64-b4af0aeca5ad"
      },
      "outputs": [],
      "source": [
        "import statsmodels.genmod.generalized_estimating_equations as gee\n",
        "from statsmodels.genmod.families import Gaussian\n",
        "\n",
        "# GEE Model for each dependent variable by gender\n",
        "for var in dependent_vars:\n",
        "    for sex in [1, 2]:  # Loop over male and female\n",
        "        # Filter data by sex\n",
        "        sex_df = df[df['sex'] == sex]\n",
        "\n",
        "        model = gee.GEE.from_formula(f\"{var} ~ year\", groups=\"id\", data=sex_df, family=Gaussian())\n",
        "        result = model.fit()\n",
        "        print(f\"GEE results for {var} (Sex={sex}):\\n\", result.summary())\n"
      ]
    },
    {
      "cell_type": "code",
      "execution_count": null,
      "metadata": {
        "colab": {
          "base_uri": "https://localhost:8080/"
        },
        "collapsed": true,
        "id": "pnshELho9BZ0",
        "outputId": "97f989f6-22de-4642-c952-83c3a4ca63f4"
      },
      "outputs": [],
      "source": [
        "!pip install pygam"
      ]
    },
    {
      "cell_type": "code",
      "execution_count": null,
      "metadata": {
        "colab": {
          "base_uri": "https://localhost:8080/",
          "height": 1000
        },
        "id": "-bkEZEOd8_NG",
        "outputId": "3bee5b5e-fe87-4695-ea02-77e8f98edc92"
      },
      "outputs": [],
      "source": [
        "import pandas as pd\n",
        "import numpy as np\n",
        "import seaborn as sns\n",
        "import matplotlib.pyplot as plt\n",
        "from pygam import LinearGAM, s\n",
        "\n",
        "# Assuming df is your dataframe and dependent_vars is a list of your variables\n",
        "# Example for one dependent variable, e.g., 'total_empathy'\n",
        "\n",
        "for var in dependent_vars:\n",
        "    for sex in [1, 2]:  # Loop over male and female\n",
        "        # Filter data by sex\n",
        "        sex_df = df[df['sex'] == sex]\n",
        "\n",
        "        X = sex_df['year'].values.reshape(-1, 1)\n",
        "        y = sex_df[var].values\n",
        "\n",
        "        gam = LinearGAM(s(0)).fit(X, y)  # Using smoothing spline (s(0) refers to 'year')\n",
        "\n",
        "        XX = np.linspace(X.min(), X.max(), 100)\n",
        "        preds = gam.predict(XX)\n",
        "\n",
        "\n",
        "        plt.figure(figsize=(10, 6))\n",
        "        plt.scatter(X, y, color='gray', alpha=0.5)\n",
        "        plt.plot(XX, preds, color='red')\n",
        "        plt.title(f\"GAM fit for {var} (Sex={sex})\")\n",
        "        plt.xlabel('Year')\n",
        "        plt.ylabel(var)\n",
        "        plt.show()\n"
      ]
    },
    {
      "cell_type": "code",
      "execution_count": null,
      "metadata": {},
      "outputs": [],
      "source": [
        "pip install xgboost"
      ]
    },
    {
      "cell_type": "code",
      "execution_count": 57,
      "metadata": {
        "id": "2gC8UlC-2pUS"
      },
      "outputs": [],
      "source": [
        "import pandas as pd\n",
        "import numpy as np\n",
        "from sklearn.model_selection import train_test_split\n",
        "from sklearn.ensemble import RandomForestRegressor, GradientBoostingRegressor\n",
        "from xgboost import XGBRegressor\n",
        "from sklearn.metrics import mean_squared_error, r2_score\n",
        "\n",
        "# Load the data\n",
        "df = input.copy()\n",
        "\n",
        "# Independent variables: year and sex\n",
        "X = df[['year', 'sex']]\n",
        "\n",
        "# Encode sex as a categorical variable (optional, depends on the model)\n",
        "X = pd.get_dummies(X, columns=['sex'], drop_first=True)\n",
        "\n",
        "# List of dependent variables\n",
        "dependent_vars = [\n",
        "    'total_empathy', 'cognitive_empathy', 'affective_empathy',\n",
        "    'modify_presentation', 'emotion_recognition', 'depression',\n",
        "    'anxiety', 'exhaustion', 'cynicism', 'efficacy'\n",
        "]\n",
        "\n",
        "# Split the data into training and testing sets\n",
        "X_train, X_test, y_train, y_test = train_test_split(X, df[dependent_vars], test_size=0.2, random_state=42)\n"
      ]
    },
    {
      "cell_type": "code",
      "execution_count": null,
      "metadata": {
        "colab": {
          "base_uri": "https://localhost:8080/"
        },
        "id": "3Xwix_CW2rtT",
        "outputId": "355f8577-6b43-4a98-f809-fc1af0b54c1e"
      },
      "outputs": [],
      "source": [
        "# Random Forest\n",
        "rf_results = {}\n",
        "for var in dependent_vars:\n",
        "    rf = RandomForestRegressor(n_estimators=100, random_state=42)\n",
        "    rf.fit(X_train, y_train[var])\n",
        "    y_pred = rf.predict(X_test)\n",
        "    rf_results[var] = {\n",
        "        \"RMSE\": np.sqrt(mean_squared_error(y_test[var], y_pred)),\n",
        "        \"R2\": r2_score(y_test[var], y_pred)\n",
        "    }\n",
        "\n",
        "print(\"Random Forest Results:\")\n",
        "for var, metrics in rf_results.items():\n",
        "    print(f\"{var}: RMSE={metrics['RMSE']}, R2={metrics['R2']}\")\n"
      ]
    },
    {
      "cell_type": "code",
      "execution_count": null,
      "metadata": {
        "colab": {
          "base_uri": "https://localhost:8080/"
        },
        "id": "p3MraB9F2ulk",
        "outputId": "199e1d1d-625b-4cc2-d646-df5f39ae44a4"
      },
      "outputs": [],
      "source": [
        "# Gradient Boosting\n",
        "gb_results = {}\n",
        "for var in dependent_vars:\n",
        "    gb = GradientBoostingRegressor(n_estimators=100, random_state=42)\n",
        "    gb.fit(X_train, y_train[var])\n",
        "    y_pred = gb.predict(X_test)\n",
        "    gb_results[var] = {\n",
        "        \"RMSE\": np.sqrt(mean_squared_error(y_test[var], y_pred)),\n",
        "        \"R2\": r2_score(y_test[var], y_pred)\n",
        "    }\n",
        "\n",
        "print(\"Gradient Boosting Results:\")\n",
        "for var, metrics in gb_results.items():\n",
        "    print(f\"{var}: RMSE={metrics['RMSE']}, R2={metrics['R2']}\")\n"
      ]
    },
    {
      "cell_type": "code",
      "execution_count": null,
      "metadata": {
        "colab": {
          "base_uri": "https://localhost:8080/"
        },
        "id": "f5au8eTd24OS",
        "outputId": "c327d6f1-acac-4c38-cc2d-de03fdde22d1"
      },
      "outputs": [],
      "source": [
        "# XGBoost\n",
        "xgb_results = {}\n",
        "for var in dependent_vars:\n",
        "    xgb = XGBRegressor(n_estimators=100, random_state=42)\n",
        "    xgb.fit(X_train, y_train[var])\n",
        "    y_pred = xgb.predict(X_test)\n",
        "    xgb_results[var] = {\n",
        "        \"RMSE\": np.sqrt(mean_squared_error(y_test[var], y_pred)),\n",
        "        \"R2\": r2_score(y_test[var], y_pred)\n",
        "    }\n",
        "\n",
        "print(\"XGBoost Results:\")\n",
        "for var, metrics in xgb_results.items():\n",
        "    print(f\"{var}: RMSE={metrics['RMSE']}, R2={metrics['R2']}\")\n"
      ]
    },
    {
      "cell_type": "markdown",
      "metadata": {
        "id": "oaOh-MymFcdI"
      },
      "source": [
        "# **Regression of curriculum years and gender as independent variables and each of the empathy, mental health, and burnout indicators separately as dependent variables**"
      ]
    },
    {
      "cell_type": "code",
      "execution_count": null,
      "metadata": {
        "colab": {
          "base_uri": "https://localhost:8080/"
        },
        "id": "guCShSp5FqUe",
        "outputId": "6fb3b87c-27d5-4152-ccc4-d62ba4e4e1fc"
      },
      "outputs": [],
      "source": [
        "# Define a function to run and print linear regression results\n",
        "def run_regression(df, dependent_var):\n",
        "    formula = f\"{dependent_var} ~ year + sex\"\n",
        "    model = ols(formula, data=df).fit()\n",
        "    print(f\"\\nResults for {dependent_var}:\")\n",
        "    print(model.summary())\n",
        "\n",
        "# List of dependent variables\n",
        "dependent_vars = [\n",
        "    'total_empathy', 'cognitive_empathy', 'affective_empathy',\n",
        "    'modify_presentation', 'emotion_recognition', 'depression',\n",
        "    'anxiety', 'exhaustion', 'cynicism', 'efficacy'\n",
        "]\n",
        "\n",
        "# Run regressions for each dependent variable\n",
        "for var in dependent_vars:\n",
        "    run_regression(input, var)"
      ]
    },
    {
      "cell_type": "code",
      "execution_count": null,
      "metadata": {
        "colab": {
          "base_uri": "https://localhost:8080/"
        },
        "id": "RcmUX-i6TZE7",
        "outputId": "f5e66ddf-5b6f-4cdc-a802-ee531f3b6be0"
      },
      "outputs": [],
      "source": [
        "import pandas as pd\n",
        "from statsmodels.formula.api import ols\n",
        "\n",
        "# Define a function to run and print linear regression results\n",
        "def run_regression(df, dependent_var, sex_value):\n",
        "    filtered_df = df[df['sex'] == sex_value]\n",
        "    formula = f\"{dependent_var} ~ year\"\n",
        "    model = ols(formula, data=filtered_df).fit()\n",
        "    sex_label = 'Male' if sex_value == 1 else 'Female'\n",
        "    print(f\"\\nResults for {dependent_var} ({sex_label}):\")\n",
        "    print(model.summary())\n",
        "\n",
        "# List of dependent variables\n",
        "dependent_vars = [\n",
        "    'total_empathy', 'cognitive_empathy', 'affective_empathy',\n",
        "    'modify_presentation', 'emotion_recognition', 'depression',\n",
        "    'anxiety', 'exhaustion', 'cynicism', 'efficacy'\n",
        "]\n",
        "\n",
        "# Run regressions for each dependent variable for both males and females\n",
        "for var in dependent_vars:\n",
        "    run_regression(input, var, sex_value=1)  # For males\n",
        "    run_regression(input, var, sex_value=2)  # For females\n"
      ]
    },
    {
      "cell_type": "code",
      "execution_count": null,
      "metadata": {
        "colab": {
          "base_uri": "https://localhost:8080/"
        },
        "id": "UO44vIYODXE-",
        "outputId": "3701029e-930a-423b-9a2d-b1119af61a4e"
      },
      "outputs": [],
      "source": [
        "import pandas as pd\n",
        "from sklearn.preprocessing import StandardScaler\n",
        "from statsmodels.formula.api import ols\n",
        "\n",
        "# Define a function to run and print linear regression results\n",
        "def run_regression(df, dependent_var, sex_value):\n",
        "    filtered_df = df.loc[df['sex'] == sex_value].copy()\n",
        "\n",
        "    # Standardize the 'year' column and the dependent variable\n",
        "    scaler = StandardScaler()\n",
        "    filtered_df['year'] = scaler.fit_transform(filtered_df[['year']])\n",
        "    filtered_df[dependent_var] = scaler.fit_transform(filtered_df[[dependent_var]])\n",
        "\n",
        "    # Define the formula and fit the model\n",
        "    formula = f\"{dependent_var} ~ year\"\n",
        "    model = ols(formula, data=filtered_df).fit()\n",
        "\n",
        "    # Print the summary\n",
        "    sex_label = 'Male' if sex_value == 1 else 'Female'\n",
        "    print(f\"\\nResults for {dependent_var} ({sex_label}):\")\n",
        "    print(model.summary())\n",
        "\n",
        "# List of dependent variables\n",
        "dependent_vars = [\n",
        "    'total_empathy', 'cognitive_empathy', 'affective_empathy',\n",
        "    'modify_presentation', 'emotion_recognition', 'depression',\n",
        "    'anxiety', 'exhaustion', 'cynicism', 'efficacy'\n",
        "]\n",
        "df=input\n",
        "# Run regressions for each dependent variable for both males and females\n",
        "for var in dependent_vars:\n",
        "    run_regression(df, var, sex_value=1)  # For males\n",
        "    run_regression(df, var, sex_value=2)  # For females\n"
      ]
    },
    {
      "cell_type": "code",
      "execution_count": null,
      "metadata": {
        "colab": {
          "base_uri": "https://localhost:8080/",
          "height": 534
        },
        "id": "cHCXdrvHHER_",
        "outputId": "ce0526a8-586e-4e28-8cb3-0eed1e4cb6d5"
      },
      "outputs": [],
      "source": [
        "def plot_regression(ax, df, dependent_var):\n",
        "    sns.scatterplot(ax=ax, x='year', y=dependent_var, hue='sex', data=df, palette={1: \"steelblue\", 2: \"violet\", 3: \"orange\"})\n",
        "    sns.regplot(ax=ax, x='year', y=dependent_var, data=df[df['sex'] == 1], scatter=False, color=\"steelblue\")\n",
        "    sns.regplot(ax=ax, x='year', y=dependent_var, data=df[df['sex'] == 2], scatter=False, color=\"violet\")\n",
        "    ax.set_title(f'{dependent_var.capitalize()} vs Year')\n",
        "    ax.set_xlabel('Year')\n",
        "    ax.set_ylabel(dependent_var.capitalize())\n",
        "\n",
        "# Create a 2x5 grid for plots\n",
        "fig, axes = plt.subplots(2, 5, figsize=(20, 10))\n",
        "\n",
        "# Flatten the axes array for easy iteration\n",
        "axes = axes.flatten()\n",
        "\n",
        "# Create regression plots in each subplot\n",
        "for ax, var in zip(axes, dependent_vars):\n",
        "    plot_regression(ax, input, var)\n",
        "\n",
        "# Adjust layout\n",
        "plt.tight_layout()\n",
        "plt.show()"
      ]
    },
    {
      "cell_type": "code",
      "execution_count": null,
      "metadata": {
        "colab": {
          "base_uri": "https://localhost:8080/"
        },
        "id": "t59KdEM7_5j-",
        "outputId": "fb5c2fdb-64cc-4cc0-82cf-450daad27bc1"
      },
      "outputs": [],
      "source": [
        "df=input\n",
        "# Filter data for sex = 1\n",
        "df_sex1 = df[df['sex'] == 1]\n",
        "for var in dependent_vars:\n",
        "  slope, intercept, r_value, p_value, std_err = linregress(df_sex1['year'], df_sex1[var])\n",
        "  print(f\"Slope for {var} [Male] : {slope}\")\n",
        "\n",
        "\n",
        "# Filter data for sex = 2\n",
        "df_sex2 = df[df['sex'] == 2]\n",
        "for var in dependent_vars:\n",
        "  slope, intercept, r_value, p_value, std_err = linregress(df_sex2['year'], df_sex2[var])\n",
        "  print(f\"Slope for {var} [Female] : {slope}\")\n",
        "\n"
      ]
    },
    {
      "cell_type": "code",
      "execution_count": null,
      "metadata": {
        "colab": {
          "base_uri": "https://localhost:8080/"
        },
        "id": "BVY2eZWV5cC_",
        "outputId": "b2b25683-b657-472f-e71d-9e83b8bd81b6"
      },
      "outputs": [],
      "source": [
        "import pandas as pd\n",
        "from statsmodels.formula.api import ols\n",
        "from sklearn.preprocessing import StandardScaler\n",
        "\n",
        "# Create dummy variables for 'year', with Bmed1 (year=1) as the reference category\n",
        "data = pd.get_dummies(input, columns=['year'], drop_first=True)\n",
        "data = pd.get_dummies(data, columns=['sex'])\n",
        "\n",
        "# List of dependent variables\n",
        "dependent_vars = [\n",
        "    'total_empathy', 'cognitive_empathy', 'affective_empathy',\n",
        "    'modify_presentation', 'emotion_recognition', 'depression',\n",
        "    'anxiety', 'exhaustion', 'cynicism', 'efficacy'\n",
        "]\n",
        "\n",
        "# List of independent variables\n",
        "independent_vars = ['year_2', 'year_3', 'year_4', 'year_5', 'year_6',  'sex_2', 'sex_3']\n",
        "\n",
        "# Standardize the independent variables\n",
        "scaler = StandardScaler()\n",
        "data[independent_vars] = scaler.fit_transform(data[independent_vars])\n",
        "\n",
        "# Loop through each dependent variable and fit a regression model\n",
        "for dependent_var in dependent_vars:\n",
        "    # Standardize the dependent variable\n",
        "    data[dependent_var] = scaler.fit_transform(data[[dependent_var]])\n",
        "    # Define the formula for the regression model\n",
        "    formula = f'{dependent_var} ~ year_2 + year_3 + year_4 + year_5 + year_6  + sex_2 + sex_3'\n",
        "\n",
        "    # Fit the regression model\n",
        "    model = ols(formula, data=data).fit()\n",
        "\n",
        "    # Print the summary of the regression model\n",
        "    print(f'Results for {dependent_var}:\\n')\n",
        "    print(model.summary())\n",
        "    print('\\n' + '-'*80 + '\\n')\n",
        "\n",
        "# Predict the values using the fitted model\n",
        "data['predicted_empathy'] = model.fittedvalues\n"
      ]
    },
    {
      "cell_type": "code",
      "execution_count": null,
      "metadata": {
        "colab": {
          "base_uri": "https://localhost:8080/"
        },
        "id": "5uzev4z4Yv5F",
        "outputId": "bf1c7be3-395e-498a-f9bb-6a87a1198221"
      },
      "outputs": [],
      "source": [
        "# Create dummy variables for 'year', with Bmed1 (year=1) as the reference category\n",
        "data = pd.get_dummies(input, columns=['year'], drop_first=True)\n",
        "# List of dependent variables\n",
        "dependent_vars = [\n",
        "    'total_empathy', 'cognitive_empathy', 'affective_empathy',\n",
        "    'modify_presentation', 'emotion_recognition', 'depression',\n",
        "    'anxiety', 'exhaustion', 'cynicism', 'efficacy'\n",
        "]\n",
        "\n",
        "# List of independent variables\n",
        "independent_vars = ['year_2', 'year_3', 'year_4', 'year_5', 'year_6', 'sex']\n",
        "\n",
        "# Standardize the independent variables\n",
        "scaler = StandardScaler()\n",
        "data[independent_vars] = scaler.fit_transform(data[independent_vars])\n",
        "\n",
        "# Loop through each dependent variable and fit a regression model\n",
        "for dependent_var in dependent_vars:\n",
        "    # Standardize the dependent variable\n",
        "    data[dependent_var] = scaler.fit_transform(data[[dependent_var]])\n",
        "    # Define the formula for the regression model\n",
        "    formula = f'{dependent_var} ~ year_2 + year_3 + year_4 + year_5 + year_6 + sex'\n",
        "\n",
        "    # Fit the regression model\n",
        "    model = ols(formula, data=data).fit()\n",
        "\n",
        "    # Print the summary of the regression model\n",
        "    print(f'Results for {dependent_var}:\\n')\n",
        "    print(model.summary())\n",
        "    print('\\n' + '-'*80 + '\\n')\n",
        "\n",
        "# Predict the values using the fitted model\n",
        "data['predicted_empathy'] = model.fittedvalues\n"
      ]
    },
    {
      "cell_type": "code",
      "execution_count": null,
      "metadata": {
        "colab": {
          "base_uri": "https://localhost:8080/"
        },
        "id": "uo1sRd7wuyt6",
        "outputId": "e2dcb441-d0c7-4253-f9fd-b2c15a27f543"
      },
      "outputs": [],
      "source": [
        "from statsmodels.regression.mixed_linear_model import MixedLM\n",
        "df=input\n",
        "Outcome = [\n",
        "    'total_empathy', 'cognitive_empathy', 'affective_empathy',\n",
        "    'modify_presentation', 'emotion_recognition', 'depression',\n",
        "    'anxiety', 'exhaustion', 'cynicism', 'efficacy'\n",
        "]\n",
        "model = MixedLM.from_formula(\"total_empathy ~ year + sex\", groups=\"id\", data=df)\n",
        "result = model.fit()\n",
        "print(result.summary())\n"
      ]
    },
    {
      "cell_type": "markdown",
      "metadata": {
        "id": "jDry-WAhdZ6t"
      },
      "source": [
        "Tried to emulate Table 2 of original paper. (Did not understand anything:)"
      ]
    },
    {
      "cell_type": "code",
      "execution_count": null,
      "metadata": {
        "colab": {
          "base_uri": "https://localhost:8080/"
        },
        "id": "Js2i8-aDdIO2",
        "outputId": "e3ef2b13-3ef1-4a8c-aadb-7d5fbb7ab06a"
      },
      "outputs": [],
      "source": [
        "import pandas as pd\n",
        "import statsmodels.api as sm\n",
        "from statsmodels.formula.api import ols\n",
        "from sklearn.preprocessing import StandardScaler\n",
        "from statsmodels.stats.anova import anova_lm\n",
        "\n",
        "# Assume data is already loaded into a DataFrame called `data`\n",
        "# Ensure 'year' column is correctly handled (create dummy variables if needed)\n",
        "data = pd.get_dummies(input, columns=['year'], drop_first=True)\n",
        "\n",
        "# List of independent variables\n",
        "independent_vars = ['year_2', 'year_3', 'year_4', 'year_5', 'year_6', 'sex']\n",
        "\n",
        "# Standardize the independent variables\n",
        "scaler = StandardScaler()\n",
        "data[independent_vars] = scaler.fit_transform(data[independent_vars])\n",
        "\n",
        "# List of dependent variables\n",
        "dependent_vars = [\n",
        "    'total_empathy', 'cognitive_empathy', 'affective_empathy',\n",
        "    'modify_presentation', 'emotion_recognition', 'depression',\n",
        "    'anxiety', 'exhaustion', 'cynicism', 'efficacy'\n",
        "]\n",
        "\n",
        "# Store results\n",
        "results = []\n",
        "\n",
        "# Loop through each dependent variable\n",
        "for dependent_var in dependent_vars:\n",
        "    # Standardize the dependent variable\n",
        "    data[dependent_var] = scaler.fit_transform(data[[dependent_var]])\n",
        "\n",
        "    # Define the formula for the regression model\n",
        "    formula = f'{dependent_var} ~ year_2 + year_3 + year_4 + year_5 + year_6 + sex '\n",
        "\n",
        "    # Fit the regression model\n",
        "    model = ols(formula, data=data).fit()\n",
        "    print(model.summary())\n",
        "\n",
        "    # Get standardized beta coefficients\n",
        "    beta_coefficients = model.params\n",
        "    se = model.bse\n",
        "\n",
        "    # Perform ANOVA to calculate eta squared\n",
        "    anova_results = anova_lm(model)\n",
        "    eta_squared = anova_results['sum_sq'][:-1] / anova_results['sum_sq'].sum()\n",
        "\n",
        "    # Store the results\n",
        "    results.append({\n",
        "        'Dependent Variable': dependent_var,\n",
        "        'Beta Coefficients': beta_coefficients,\n",
        "        'Standard Errors': se,\n",
        "        'Eta Squared': eta_squared\n",
        "    })\n",
        "\n",
        "# Display the results\n",
        "for result in results:\n",
        "    print(f\"Results for {result['Dependent Variable']}:\")\n",
        "    print(f\"Beta Coefficients:\\n{result['Beta Coefficients']}\")\n",
        "    print(f\"Standard Errors:\\n{result['Standard Errors']}\")\n",
        "    print(f\"Eta Squared:\\n{result['Eta Squared']}\")\n",
        "    print('\\n' + '-'*80 + '\\n')\n"
      ]
    },
    {
      "cell_type": "code",
      "execution_count": null,
      "metadata": {
        "colab": {
          "base_uri": "https://localhost:8080/"
        },
        "id": "QXauAQKbKdCk",
        "outputId": "c48bdf0a-b29c-4ce6-c4e9-cd7353b1a857"
      },
      "outputs": [],
      "source": [
        "# List of dependent variables\n",
        "dependent_vars = [\n",
        "    'total_empathy', 'cognitive_empathy', 'affective_empathy',\n",
        "    'modify_presentation', 'emotion_recognition', 'depression',\n",
        "    'anxiety', 'exhaustion', 'cynicism', 'efficacy'\n",
        "]\n",
        "\n",
        "# Run regressions for each dependent variable(y) where xi is independent variable\n",
        "# y= ko + k1x1 + k2x2 + ...... + knxn + ϵ\n",
        "for var in dependent_vars:\n",
        "  model = sm.OLS(input[var], sm.add_constant(input[['year', 'sex']])).fit()\n",
        "  print(f\"\\nResults for {var}:\")\n",
        "  print(model.summary())"
      ]
    },
    {
      "cell_type": "code",
      "execution_count": null,
      "metadata": {
        "colab": {
          "base_uri": "https://localhost:8080/"
        },
        "id": "7ewvxupsNpyD",
        "outputId": "a908e4f6-c988-4657-86c1-1f7a6c00bdd1"
      },
      "outputs": [],
      "source": [
        "from sklearn.linear_model import LinearRegression\n",
        "from sklearn.model_selection import train_test_split\n",
        "\n",
        "df=input\n",
        "X1 = df[['year', 'sex']]\n",
        "\n",
        "for var in dependent_vars:\n",
        "  y = df[var]\n",
        "\n",
        "  # Initialize the models\n",
        "  model1 = LinearRegression().fit(X1, y)\n",
        "  print(f'Model 1 Coefficients: {model1.coef_}, Intercept: {model1.intercept_}')"
      ]
    },
    {
      "cell_type": "markdown",
      "metadata": {
        "id": "Uh9tae8BQIrA"
      },
      "source": [
        "# **Linear regressions in which each of the empathy indicators are considered separately as independent variables with each of the mental health and burnout indicators as dependent variables**"
      ]
    },
    {
      "cell_type": "code",
      "execution_count": null,
      "metadata": {
        "colab": {
          "base_uri": "https://localhost:8080/"
        },
        "id": "ZlM0H3BLQZGC",
        "outputId": "a51964e9-ab11-4dc6-9fdf-3554ec44f231"
      },
      "outputs": [],
      "source": [
        "import statsmodels.api as sm\n",
        "\n",
        "# Define the indicators\n",
        "empathy_indicators = ['total_empathy', 'cognitive_empathy', 'affective_empathy', 'modify_presentation', 'emotion_recognition']\n",
        "mental_health_indicators = ['depression', 'anxiety', 'exhaustion', 'cynicism']\n",
        "burnout_indicators = ['efficacy']\n",
        "dependent_vars = mental_health_indicators + burnout_indicators\n",
        "\n",
        "# Filter data for males\n",
        "df_males = input[input['sex'] == 1]\n",
        "\n",
        "# Filter data for females\n",
        "df_females = input[input['sex'] == 2]\n",
        "\n",
        "# Function to fit and summarize OLS models\n",
        "def fit_and_summarize_ols(df, empathy_indicators, dependent_vars, sex_label):\n",
        "    results = {}\n",
        "    for ind in empathy_indicators:\n",
        "        for var in dependent_vars:\n",
        "            X = sm.add_constant(df[ind])\n",
        "            y = df[var]\n",
        "            model = sm.OLS(y, X).fit()\n",
        "            results[(ind, var)] = model.params\n",
        "            print(f\"\\nResults for {var} [Sex: {sex_label}, Empathy Indicator: {ind}]:\")\n",
        "            print(model.summary())\n",
        "    return results\n",
        "\n",
        "# Fit models for males and females\n",
        "print(\"Fitting models for males...\")\n",
        "results_males = fit_and_summarize_ols(df_males, empathy_indicators, dependent_vars, 'Male')\n",
        "\n",
        "print(\"\\nFitting models for females...\")\n",
        "results_females = fit_and_summarize_ols(df_females, empathy_indicators, dependent_vars, 'Female')\n",
        "\n",
        "# Comparing coefficients\n",
        "comparison_results = []\n",
        "for key in results_males:\n",
        "    male_coeff = results_males[key]\n",
        "    female_coeff = results_females[key]\n",
        "    comparison_results.append((key[0], key[1], male_coeff[1], female_coeff[1]))\n",
        "\n",
        "# Display comparison results\n",
        "comparison_df = pd.DataFrame(comparison_results, columns=['Empathy Indicator', 'Dependent Variable', 'Male Coefficient', 'Female Coefficient'])\n",
        "print(\"\\nComparison of Coefficients:\")\n",
        "print(comparison_df)\n",
        "\n",
        "\n"
      ]
    },
    {
      "cell_type": "code",
      "execution_count": null,
      "metadata": {
        "colab": {
          "base_uri": "https://localhost:8080/",
          "height": 1000
        },
        "id": "2CxnwGviuamB",
        "outputId": "866972eb-2945-4eb5-a05b-407a74c60f80"
      },
      "outputs": [],
      "source": [
        "def plot_regression(ax, df, dependent_var,ind):\n",
        "    sns.scatterplot(ax=ax, x=ind, y=dependent_var, hue='sex', data=df, palette={1: \"steelblue\", 2: \"violet\", 3: \"orange\"})\n",
        "    sns.regplot(ax=ax, x=ind, y=dependent_var, data=df[df['sex'] == 1], scatter=False, color=\"steelblue\")\n",
        "    sns.regplot(ax=ax, x=ind, y=dependent_var, data=df[df['sex'] == 2], scatter=False, color=\"violet\")\n",
        "    ax.set_title(f'{dependent_var.capitalize()} vs {ind.capitalize()}')\n",
        "    ax.set_xlabel(ind.capitalize())\n",
        "    ax.set_ylabel(dependent_var.capitalize())\n",
        "\n",
        "# Create a 2x5 grid for plots\n",
        "fig, axes = plt.subplots(5, 5, figsize=(20, 20))\n",
        "\n",
        "# Flatten the axes array for easy iteration\n",
        "axes = axes.flatten()\n",
        "\n",
        "\n",
        "# Create regression plots in each subplot\n",
        "for ax, (ind, var) in zip(axes, [(ind, var) for ind in empathy_indicators for var in dependent_vars]):\n",
        "    plot_regression(ax, input, var, ind)\n",
        "\n",
        "# Adjust layout\n",
        "plt.tight_layout()\n",
        "plt.show()"
      ]
    },
    {
      "cell_type": "code",
      "execution_count": null,
      "metadata": {
        "colab": {
          "base_uri": "https://localhost:8080/"
        },
        "id": "OpaZdg8OxtXZ",
        "outputId": "d5a65dac-3d19-4aba-8fa1-76ba6b193749"
      },
      "outputs": [],
      "source": [
        "# Filter data for males\n",
        "df_males = input[input['sex'] == 1]\n",
        "\n",
        "# Filter data for females\n",
        "df_females = input[input['sex'] == 2]\n",
        "\n",
        "# Function to calculate slopes for each combination\n",
        "def calculate_slopes(df, empathy_indicators, dependent_vars, sex_label):\n",
        "    slopes = []\n",
        "    for ind in empathy_indicators:\n",
        "        for var in dependent_vars:\n",
        "            slope, intercept, r_value, p_value, std_err = linregress(df[ind], df[var])\n",
        "            slopes.append((ind, var, slope))\n",
        "            print(f\"Slope for {var} [Sex: {sex_label}, Empathy Indicator: {ind}] : {slope}\")\n",
        "    return slopes\n",
        "\n",
        "# Calculate slopes for males\n",
        "print(\"Calculating slopes for males...\")\n",
        "slopes_males = calculate_slopes(df_males, empathy_indicators, dependent_vars, 'Male')\n",
        "\n",
        "# Calculate slopes for females\n",
        "print(\"\\nCalculating slopes for females...\")\n",
        "slopes_females = calculate_slopes(df_females, empathy_indicators, dependent_vars, 'Female')\n",
        "\n",
        "# Convert results to DataFrame for easier comparison\n",
        "comparison_df = pd.DataFrame(slopes_males, columns=['Empathy Indicator', 'Dependent Variable', 'Male Slope'])\n",
        "comparison_df['Female Slope'] = [slope[2] for slope in slopes_females]\n",
        "\n",
        "print(\"\\nComparison of Slopes:\")\n",
        "print(comparison_df)"
      ]
    },
    {
      "cell_type": "code",
      "execution_count": null,
      "metadata": {
        "colab": {
          "base_uri": "https://localhost:8080/"
        },
        "id": "RQMBlCiN6jxs",
        "outputId": "ca9f533e-209e-4f41-b69a-e116ebe57312"
      },
      "outputs": [],
      "source": [
        "import pandas as pd\n",
        "from scipy import stats  # For the t-test\n",
        "from statsmodels.formula.api import ols  # For the OLS model\n",
        "\n",
        "data=input\n",
        "total_missing = data.isnull().sum().sum()\n",
        "print(f'Total missing values: {total_missing}')\n",
        "\n",
        "# Calculate the means for both genders\n",
        "male_empathy = data[data['sex'] == 'male']['total_empathy']\n",
        "female_empathy = data[data['sex'] == 'female']['total_empathy']\n",
        "\n",
        "# Paired t-test over time (pre and post data)\n",
        "t_stat, p_value = stats.ttest_rel(male_empathy, female_empathy)\n",
        "print(f'Total Empathy T-test: t-stat={t_stat}, p-value={p_value}')\n",
        "\n",
        "# Alternatively, for multiple years\n",
        "model = ols('total_empathy ~ C(year) + C(sex) + C(year):C(sex)', data=data).fit()\n",
        "print(model.summary())\n"
      ]
    }
  ],
  "metadata": {
    "colab": {
      "provenance": []
    },
    "kernelspec": {
      "display_name": "Python 3",
      "name": "python3"
    },
    "language_info": {
      "codemirror_mode": {
        "name": "ipython",
        "version": 3
      },
      "file_extension": ".py",
      "mimetype": "text/x-python",
      "name": "python",
      "nbconvert_exporter": "python",
      "pygments_lexer": "ipython3",
      "version": "3.12.3"
    }
  },
  "nbformat": 4,
  "nbformat_minor": 0
}
